{
 "cells": [
  {
   "cell_type": "markdown",
   "id": "17b207ca-5198-480c-bef4-e2fe8e89ad97",
   "metadata": {},
   "source": [
    "Decision Tree-1"
   ]
  },
  {
   "cell_type": "markdown",
   "id": "cbeb7339-c83c-4d41-a70d-aede62a97526",
   "metadata": {},
   "source": [
    "Q1. Describe the decision tree classifier algorithm and how it works to make predictions.\n",
    "Ans \n",
    "A decision tree algorithm is a machine learning algorithm that uses a decision tree to make predictions. It follows a tree-like model of decisions and their possible consequences. The algorithm works by recursively splitting the data into subsets based on the most significant feature at each node of the tree"
   ]
  },
  {
   "cell_type": "markdown",
   "id": "4e339a24-1510-4ad0-b38a-28a2291614c3",
   "metadata": {},
   "source": [
    "Q2. Provide a step-by-step explanation of the mathematical intuition behind decision tree classification.\n",
    "Step 1: Determine the Decision Column\n",
    "Since decision trees are used for clasification, you need to determine the classes which are the basis for the decision.\n",
    "In this case, it it the last column, that is Play Golf column with classes Yes and No.\n",
    "To determine the rootNode we need to compute the entropy.\n",
    "To do this, we create a frequency table for the classes (the Yes/No column).\n",
    "Step 2: Calculating Entropy for the classes \n",
    "In this step, you need to calculate the entropy for the Play Golf column and the calculation step.\n",
    "Step 3: Calculate Entropy for Other Attributes After Split\n",
    "For the other four attributes, we need to calculate the entropy after each of the split.\n",
    "Step 4: Calculating Information Gain for Each Split\n",
    "The next step is to calculate the information gain for each of the attributes. The information gain is calculated from the split using each of the attributes. Then the attribute with the largest information gain is used for the split.\n",
    "Step 5: Perform the First Split\n",
    "Draw the First Split of the Decision Tree\n",
    "Now that we have all the information gain, we then split the tree based on the attribute with the highest information gain."
   ]
  },
  {
   "cell_type": "markdown",
   "id": "780bb0b6-77c5-43b8-a1c9-4b58bfa72d9f",
   "metadata": {},
   "source": [
    "Q3. Explain how a decision tree classifier can be used to solve a binary classification problem.\n",
    "ANS \n",
    "Begin with the entire dataset as the root node of the decision tree. Determine the best attribute to split the dataset based on a given criterion, such as information gain or Gini impurity. Create a new internal node that corresponds to the best attribute and connects it to the root node."
   ]
  },
  {
   "cell_type": "markdown",
   "id": "e2dc7241-1bcb-474a-bd80-405225fd44e2",
   "metadata": {},
   "source": [
    "Q4. Discuss the geometric intuition behind decision tree classification and how it can be used to make\n",
    "predictions.\n",
    "ANS \n",
    "Decision Trees are easy & Simple to implement & interpreted. Decision Tree is a diagram (flow) that is used to predict the course of action or a probability. Each branch of the decision tree represents an outcome or decision or a reaction. Decision Trees can be implemented in a variety of situations from personal to complex situations. The sequence of steps will give a better understanding easily.\n",
    "\n",
    "In Programming, we regularly use If-else conditions, even the Decision Tree working process is similar to an If-else condition."
   ]
  },
  {
   "cell_type": "markdown",
   "id": "0075ccef-00f4-48dc-b4d3-3adcdbaf3626",
   "metadata": {},
   "source": [
    "Q5. Define the confusion matrix and describe how it can be used to evaluate the performance of a\n",
    "classification model.\n",
    "ANS \n",
    "A confusion matrix, also known as an error matrix, is a summarized table used to assess the performance of a classification model. The number of correct and incorrect predictions are summarized with count values and broken down by each class. Below is an image of the structure of a 2×2 confusion matrix."
   ]
  },
  {
   "cell_type": "markdown",
   "id": "f456a370-e31b-480b-bcba-3139bd6bc2b1",
   "metadata": {},
   "source": [
    "Q6. Provide an example of a confusion matrix and explain how precision, recall, and F1 score can be\n",
    "calculated from it.\n",
    "ANS \n",
    "EXAMPLE \n",
    "A machine learning model is trained to predict tumor in patients. The test dataset consists of 100 people.\n",
    "True Positive (TP) — model correctly predicts the positive class (prediction and actual both are positive). In the above example, 10 people who have tumors are predicted positively by the model.\n",
    "True Negative (TN) — model correctly predicts the negative class (prediction and actual both are negative). In the above example, 60 people who don’t have tumors are predicted negatively by the model.\n",
    "False Positive (FP) — model gives the wrong prediction of the negative class (predicted-positive, actual-negative). In the above example, 22 people are predicted as positive of having a tumor, although they don’t have a tumor. FP is also called a TYPE I error.\n",
    "False Negative (FN) — model wrongly predicts the positive class (predicted-negative, actual-positive). In the above example, 8 people who have tumors are predicted as negative. FN is also called a TYPE II error"
   ]
  },
  {
   "cell_type": "markdown",
   "id": "e592f24f-568a-4c94-9a94-3ddb191834ad",
   "metadata": {},
   "source": [
    "Q7. Discuss the importance of choosing an appropriate evaluation metric for a classification problem and\n",
    "explain how this can be done.\n",
    "ANS \n",
    "Evaluation metrics are used to measure the quality of the statistical or machine learning model. Evaluating machine learning models or algorithms is essential for any project. There are many different types of evaluation metrics available to test a model.\n",
    "It should prefer classifiers that give similar classification results for cases from different periods (stability of classification results over time). It should consider the quantitative parameters of classification results (criteria) as Gini measure, accuracy, precision, recall, and F1 score.\n"
   ]
  },
  {
   "cell_type": "markdown",
   "id": "739c1b49-7ab3-457e-9f8d-2ab45f3c5a28",
   "metadata": {},
   "source": [
    "Q8. Provide an example of a classification problem where precision is the most important metric, and\n",
    "explain why.\n",
    "ANS \n",
    "What is precision in classification problem?\n",
    "Precision and Recall in Classification Models | Built In\n",
    "Precision: The ability of a classification model to identify only the relevant data points. Mathematically, precision is the number of true positives divided by the number of true positives plus the number of false positives.\n",
    "Email Spam detection:This is one of the example where Precision is more important than Recall. Quick Recap: Precision: This tells when you predict something positive, how many times they were actually positive"
   ]
  },
  {
   "cell_type": "markdown",
   "id": "e0c37916-6ef1-4b07-aae0-7ba04972fee1",
   "metadata": {},
   "source": [
    "Q9. Provide an example of a classification problem where recall is the most important metric, and explain\n",
    "why.\n",
    "ANS \n",
    "Recall is more important where Overlooked Cases (False Negatives) are more costly than False Alarms (False Positive). The focus in these problems is finding the positive cases. Precision is more important where False Alarms (False Positives) are more costly than Overlooked Cases (False Negatives)."
   ]
  }
 ],
 "metadata": {
  "kernelspec": {
   "display_name": "Python 3 (ipykernel)",
   "language": "python",
   "name": "python3"
  },
  "language_info": {
   "codemirror_mode": {
    "name": "ipython",
    "version": 3
   },
   "file_extension": ".py",
   "mimetype": "text/x-python",
   "name": "python",
   "nbconvert_exporter": "python",
   "pygments_lexer": "ipython3",
   "version": "3.10.8"
  }
 },
 "nbformat": 4,
 "nbformat_minor": 5
}
