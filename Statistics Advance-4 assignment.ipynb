{
 "cells": [
  {
   "cell_type": "markdown",
   "id": "847de01c-b6ae-4a81-9554-292d3dcaecca",
   "metadata": {},
   "source": [
    "Q1: What is the difference between a t-test and a z-test? Provide an example scenario where you would\n",
    "use each type of test.\n",
    "\n",
    "ans -A z-test is used to test a Null Hypothesis if the population variance is known, or if the sample size is larger than 30, for an unknown population variance. A t-test is used when the sample size is less than 30 and the population variance is unknown."
   ]
  },
  {
   "cell_type": "markdown",
   "id": "e4063127-c265-4176-a7d1-a3c173f83b5f",
   "metadata": {},
   "source": [
    "Q2: Differentiate between one-tailed and two-tailed tests.\n",
    "ANS -\n",
    "One-tailed tests allow for the possibility of an effect in one direction. Two-tailed tests test for the possibility of an effect in two directions—positive and negative.\n",
    "one-tailed tests will only have one critical region whereas two-tailed tests will have two critical regions\n",
    "A one-tailed test looks for an increase or decrease in the parameter whereas a two-tailed test looks for any change in the parameter (which can be any change- increase or decrease). "
   ]
  },
  {
   "cell_type": "markdown",
   "id": "0f8a4f56-2701-4daa-99cc-b510180ac064",
   "metadata": {},
   "source": [
    "Q3: Explain the concept of Type 1 and Type 2 errors in hypothesis testing. Provide an example scenario for\n",
    "each type of error.\n",
    "ANS -\n",
    "A type I error (false-positive) occurs if an investigator rejects a null hypothesis that is actually true in the population; a type II error (false-negative) occurs if the investigator fails to reject a null hypothesis that is actually false in the population."
   ]
  },
  {
   "cell_type": "markdown",
   "id": "f3e2e909-101a-4cce-bd90-614f7163e040",
   "metadata": {},
   "source": [
    "Q4: Explain Bayes's theorem with an example.\n",
    "ANS - \n",
    "the Bayes' theorem describes the probability of an event based on prior knowledge of the conditions that might be relevant to the event. The theorem is named after English statistician, Thomas Bayes, who discovered the formula in 1763.\n",
    "Bayes theorem gives the probability of an “event” with the given information on “tests”. There is a difference between “events” and “tests”. For example there is a test for liver disease, which is different from actually having the liver disease, i.e. an event. Rare events might be having a higher false positive rate."
   ]
  },
  {
   "cell_type": "markdown",
   "id": "caec27b9-3439-4033-abae-ea83f055af69",
   "metadata": {},
   "source": [
    "Q5: What is a confidence interval? How to calculate the confidence interval, explain with an example.\n",
    "ANS - \n",
    " The confidence interval is a statistical measurement that gives you a range of numbers in which the standard mean should appear.\n",
    "  if you are estimating a 95% confidence interval around the mean proportion of female babies born every year based on a random sample of babies, you might find an upper bound of 0.56 and a lower bound of 0.48. These are the upper and lower bounds of the confidence interval. The confidence level is 95%"
   ]
  },
  {
   "cell_type": "markdown",
   "id": "41ec91af-c642-4706-82ee-016006c986e6",
   "metadata": {},
   "source": [
    "Q6. Use Bayes' Theorem to calculate the probability of an event occurring given prior knowledge of the\n",
    "event's probability and new evidence. Provide a sample problem and solution.\n",
    "ANS -\n",
    "As a numerical example, imagine there is a drug test that is 98% accurate, meaning that 98% of the time, it shows a true positive result for someone using the drug, and 98% of the time, it shows a true negative result for nonusers of the drug.\n",
    "\n",
    "Next, assume 0.5% of people use the drug. If a person selected at random tests positive for the drug, the following calculation can be made to determine the probability the person is actually a user of the drug.\n",
    "\n",
    "(0.98 x 0.005) / [(0.98 x 0.005) + ((1 - 0.98) x (1 - 0.005))] = 0.0049 / (0.0049 + 0.0199) = 19.76%\n",
    "Bayes' Theorem shows that even if a person tested positive in this scenario, there is a roughly 80% chance the person does not take the drug."
   ]
  },
  {
   "cell_type": "markdown",
   "id": "b4a0ed27-1c51-4eab-bbde-64c9def1d5b5",
   "metadata": {},
   "source": [
    "Q7. Calculate the 95% confidence interval for a sample of data with a mean of 50 and a standard deviation\n",
    "of 5. Interpret the results.\n",
    "ANS -\n",
    "Given mean = 50 and SD = 5 and SE = 5/(100)^0.5 = 5/50 = 0.1\n",
    "\n",
    "The 95% confidence Interval can be given as mean ± 1.96*SE\n",
    "\n",
    "mean - 1.96*SE = 50 - 1.96*0.1 = 50 - 0.196 = 49.804"
   ]
  },
  {
   "cell_type": "markdown",
   "id": "2acfe325-d01b-476a-ae1b-a1fb5e3dd85f",
   "metadata": {},
   "source": [
    "Q8. What is the margin of error in a confidence interval? How does sample size affect the margin of error?\n",
    "Provide an example of a scenario where a larger sample size would result in a smaller margin of error.\n",
    "ANS -\n",
    "The margin of error in statistics is the degree of error in results received from random sampling surveys. A higher margin of error in statistics indicates less likelihood of relying on the results of a survey or poll, i.e. the confidence on the results will be lower to represent a population. \n",
    "A confidence interval is the level of unpredictability with a specific statistic.\n",
    "A lower margin of error indicates higher confidence levels in the produced results.\n"
   ]
  },
  {
   "cell_type": "markdown",
   "id": "19cecdcd-f754-4f4c-bf2b-c42aa4178384",
   "metadata": {},
   "source": [
    "Q9. Calculate the z-score for a data point with a value of 75, a population mean of 70, and a population\n",
    "standard deviation of 5. Interpret the results.\n",
    "ANS -\n",
    "a data point with a value of 75. a population mean of 70, and a population\n",
    "standard deviation of 5. Assuming a normal distribution, your z score would be:\n",
    "z = (x – μ) / σ\n",
    "= (75 – 70) / 5 = 1"
   ]
  },
  {
   "cell_type": "markdown",
   "id": "6a582d07-0e8c-402e-af5b-cee8fdffa4ca",
   "metadata": {},
   "source": [
    "Q10. In a study of the effectiveness of a new weight loss drug, a sample of 50 participants lost an average\n",
    "of 6 pounds with a standard deviation of 2.5 pounds. Conduct a hypothesis test to determine if the drug is\n",
    "significantly effective at a 95% confidence level using a t-test.\n",
    "ANS - \n"
   ]
  },
  {
   "cell_type": "markdown",
   "id": "bcbfd75a-7ffa-4ff8-aa41-292328ab1d26",
   "metadata": {},
   "source": [
    "Q11. In a survey of 500 people, 65% reported being satisfied with their current job. Calculate the 95%\n",
    "confidence interval for the true proportion of people who are satisfied with their job.\n",
    "ANS -\n",
    "Given data\n",
    "\n",
    "The sample size is n = 500\n",
    "The sample mean is x̄ = 65% = 0.65\n",
    "The confidence level is C.I = 95% = 0.95\n",
    "α = 1-C.I\n",
    "  = 1- 0.95\n",
    "  = 0.05\n",
    "The standard critical value (zα/2)corresponding to 95% confidence level from normal distribution table is,Z0.025 = 1.96\n",
    "The lower limit of confidence interval is,\n",
    "ul= x̄- Z0.025√x̄(1-x̄)/n\n",
    "   = 0.65-1.96√ 0.65(1-0.65)/500\n",
    "   = 0.65 - 0.042\n",
    "   =0.608\n",
    "Uu= x̄+ Z0.025√x̄(1-x̄)/n\n",
    "   = 0.65+1.96√ 0.65(1-0.65)/500\n",
    "   = 0.65 + 0.042\n",
    "   =0.692   \n",
    "\n",
    "Thus, the confidence interval at 95% is (0.608, 0.692).   "
   ]
  },
  {
   "cell_type": "markdown",
   "id": "5e7983e5-55ab-4a9b-b3ba-328c57cc4996",
   "metadata": {},
   "source": [
    "Q12. A researcher is testing the effectiveness of two different teaching methods on student performance.\n",
    "Sample A has a mean score of 85 with a standard deviation of 6, while sample B has a mean score of 82\n",
    "with a standard deviation of 5. Conduct a hypothesis test to determine if the two teaching methods have a\n",
    "significant difference in student performance using a t-test with a significance level of 0.01.\n",
    "ANS -\n",
    "\n"
   ]
  },
  {
   "cell_type": "markdown",
   "id": "f5e6211a-ba90-437f-b32e-b32bfbf6d79a",
   "metadata": {},
   "source": [
    "Q13. A population has a mean of 60 and a standard deviation of 8. A sample of 50 observations has a mean\n",
    "of 65. Calculate the 90% confidence interval for the true population mean.\n"
   ]
  },
  {
   "cell_type": "markdown",
   "id": "dba4f13b-8447-4e03-a0a4-5f1ab4b15c05",
   "metadata": {},
   "source": [
    "Q14. In a study of the effects of caffeine on reaction time, a sample of 30 participants had an average\n",
    "reaction time of 0.25 seconds with a standard deviation of 0.05 seconds. Conduct a hypothesis test to\n",
    "determine if the caffeine has a significant effect on reaction time at a 90% confidence level using a t-test.\n"
   ]
  }
 ],
 "metadata": {
  "kernelspec": {
   "display_name": "Python 3 (ipykernel)",
   "language": "python",
   "name": "python3"
  },
  "language_info": {
   "codemirror_mode": {
    "name": "ipython",
    "version": 3
   },
   "file_extension": ".py",
   "mimetype": "text/x-python",
   "name": "python",
   "nbconvert_exporter": "python",
   "pygments_lexer": "ipython3",
   "version": "3.10.8"
  }
 },
 "nbformat": 4,
 "nbformat_minor": 5
}
