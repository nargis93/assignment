{
 "cells": [
  {
   "cell_type": "markdown",
   "id": "191ebb53-3ba1-4fd8-920a-27ea1c79284a",
   "metadata": {},
   "source": [
    "Q1. What are the key steps involved in building an end-to-end web application, from development to\n",
    "deployment on the cloud?\n",
    "ANS \n",
    "Here is a 5 easy step process about how to deploy a web application.\n",
    "1.Prepare the Code for Deployment\n",
    "2.Configure the Code for Deployment on the Web Server.\n",
    "3.Transfer the Web Application to the Production Environment. \n",
    "4.Launch the Web Application to the Server. \n",
    "5.Maintenance and Monitoring of the Web Application."
   ]
  },
  {
   "cell_type": "markdown",
   "id": "3e4fd542-4358-4dc7-ba2d-83e264c69f09",
   "metadata": {},
   "source": [
    "Q2. Explain the difference between traditional web hosting and cloud hosting.\n",
    "ANS \n",
    "1.Cloud hosting offers a level of scalability that traditional hosting can't. Cloud hosting companies provide virtual space on an on-demand, as-needed basis. Instead of paying for a set amount of space upfront on a single server, the user pays as they go for what they actually use.\n",
    "\n",
    "2.Traditional hosting, especially shared hosting, has its drawbacks though. Because the resources of a single server are shared among a number of different websites, spikes in traffic to those websites can mean decreased performance for your own. Security breaches and other performance issues on other sites make take yours down as well. And there’s a single point of failure. If the server itself experiences technical problems, everyone hosted on that server will be affected.\n",
    "\n",
    "3.Cloud hosting companies provide Infrastructure-as-a-Service (IaaS). They house, run, and maintain all of the necessary hardware, and the customer pays for the resources the use, similar to how we pay for utilities like electricity."
   ]
  },
  {
   "cell_type": "markdown",
   "id": "4965a3c5-ee89-4ad1-a8a1-df6df45ee527",
   "metadata": {},
   "source": [
    "Q3. How do you choose the right cloud provider for your application deployment, and what factors\n",
    "should you consider?\n",
    "ANS \n",
    "By considering reliability, scalability, security, pricing, and support factors, you can make an informed choice that aligns with your organization's needs and goals. Remember to assess the provider's industry expertise, reputation, and future roadmap to ensure a long-term partnership that drives innovation and growth.\n",
    "1.Certifications & Standards.\n",
    "2.Technologies & Service Roadmap.\n",
    "3.Data Security, Data Governance and Business policies.\n",
    "4.Service Dependencies & Partnerships.\n",
    "5.Contracts, Commercials & SLAs.\n",
    "6.Reliability & Performance."
   ]
  },
  {
   "cell_type": "markdown",
   "id": "7959834a-b04f-4dd6-bc0d-7141764fedd0",
   "metadata": {},
   "source": [
    "Q4. How do you design and build a responsive user interface for your web application, and what are\n",
    "some best practices to follow?\n",
    "ANS \n",
    "1.Eliminate Friction. \n",
    "2.Design for Thumbs. \n",
    "3.Take Advantage of Mobile Devices' Native Hardware. \n",
    "4.Make Layouts Fluid/Adaptive by Default. \n",
    "5.Don't Forget About Landscape Orientation. \n",
    "6.Remember, Typography Can Be Responsive Too. \n",
    "7.Lazy Load Non-vital Images and Videos. \n",
    "8.Conditional Loading."
   ]
  },
  {
   "cell_type": "markdown",
   "id": "d2e654a4-a1e5-4997-aaef-93c5d5509e86",
   "metadata": {},
   "source": [
    "Q5. How do you integrate the machine learning model with the user interface for the Algerian Forest Fires\n",
    "project(which we discussed in class), and what APIs or libraries can you use for this purpose?\n",
    "ANS \n",
    "1.DATA collection \n",
    "2.EDA \n",
    "3.Feature engineering\n",
    "4.feature scaling\n",
    "5.model train\n",
    "6.web application \n",
    "7.Deployment\n",
    "scaler.pkl for standardization that is feature scaling \n",
    "ridge.pkl for data Prediction for model \n",
    "API or libraries used\n",
    "numpy\n",
    "pandas\n",
    "flask\n",
    "scikit.learn StandardScaler\n",
    "request,jsonify,render_template\n"
   ]
  }
 ],
 "metadata": {
  "kernelspec": {
   "display_name": "Python 3 (ipykernel)",
   "language": "python",
   "name": "python3"
  },
  "language_info": {
   "codemirror_mode": {
    "name": "ipython",
    "version": 3
   },
   "file_extension": ".py",
   "mimetype": "text/x-python",
   "name": "python",
   "nbconvert_exporter": "python",
   "pygments_lexer": "ipython3",
   "version": "3.10.8"
  }
 },
 "nbformat": 4,
 "nbformat_minor": 5
}
