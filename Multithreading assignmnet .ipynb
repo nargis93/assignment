{
 "cells": [
  {
   "cell_type": "code",
   "execution_count": 1,
   "id": "3fc35a6c-2c0d-4a9b-88a7-155d2a5418da",
   "metadata": {},
   "outputs": [
    {
     "ename": "SyntaxError",
     "evalue": "invalid character '−' (U+2212) (2072436095.py, line 9)",
     "output_type": "error",
     "traceback": [
      "\u001b[0;36m  Cell \u001b[0;32mIn[1], line 9\u001b[0;36m\u001b[0m\n\u001b[0;31m    threading.activeCount() − Returns the number of thread objects that are active\u001b[0m\n\u001b[0m                            ^\u001b[0m\n\u001b[0;31mSyntaxError\u001b[0m\u001b[0;31m:\u001b[0m invalid character '−' (U+2212)\n"
     ]
    }
   ],
   "source": [
    "Ans 1 = \n",
    "The threading module is a high-level implementation of multithreading used to deploy an application in Python. \n",
    "To use multithreading,we need to import the threading module in Python Program. A start() method is used to initiate\n",
    "the activity of a thread.\n",
    "\n",
    "Ans 2=\n",
    "Python threading allows you to have different parts of your program run concurrently and can simplify your design. \n",
    "activeCount()\n",
    "threading.activeCount() − Returns the number of thread objects that are active\n",
    "currentThread()\n",
    "threading.currentThread() − Returns the number of thread objects in the caller's thread control. \n",
    "enumerate()\n",
    "threading.enumerate() − Returns a list of all thread objects that are currently active.\n",
    "\n",
    "Ans 3 = \n",
    "1.run()\n",
    "The . run() method executes any target function belonging to a given thread\n",
    "object that is now active. It normally executes in the background after the . start() method is invoked.\n",
    "2.start()\n",
    "The Thread. start() method is an inbuilt method of the Thread class of the threading module, it is used to start a \n",
    "thread's activity. This method calls the run()method internally which then executes the target method. This method \n",
    "must be called at most one time for one thread.\n",
    "3. join()\n",
    "Python join() is an inbuilt string function in Python used to join elements of the sequence separated by a string\n",
    "separator.This function joins elements of a sequence and makes it a string.\n",
    "4. isAlive()\n",
    "isAlive() − The isAlive() method checks whether a thread is still executing.\n",
    "\n",
    "Ans 4 =\n",
    "\\\\Advantages \\\\\n",
    "Enhanced performance by decreased development time\n",
    "Simplified and streamlined program coding\n",
    "Improvised GUI responsiveness\n",
    "Simultaneous and parallelized occurrence of tasks\n",
    "Better use of cache storage by utilization of resources\n",
    "Decreased cost of maintenance\n",
    "Better use of CPU resource\n",
    "\\\\Disadvantages\\\\\n",
    "Complex debugging and testing processes\n",
    "Overhead switching of context\n",
    "Increased potential for deadlock occurrence\n",
    "Increased difficulty level in writing a program\n",
    "Unpredictable results\n",
    "\n",
    "Ans 5 =\n",
    "A race condition occurs when two threads use the same variable at a given time. Deadlock exists when two\n",
    "threads seek one lock simultaneously. This situation will stop both threads from processing or executing the functions."
   ]
  },
  {
   "cell_type": "code",
   "execution_count": null,
   "id": "cecd0670-4164-4fe6-9e9b-1a28df329a3e",
   "metadata": {},
   "outputs": [],
   "source": []
  }
 ],
 "metadata": {
  "kernelspec": {
   "display_name": "Python 3 (ipykernel)",
   "language": "python",
   "name": "python3"
  },
  "language_info": {
   "codemirror_mode": {
    "name": "ipython",
    "version": 3
   },
   "file_extension": ".py",
   "mimetype": "text/x-python",
   "name": "python",
   "nbconvert_exporter": "python",
   "pygments_lexer": "ipython3",
   "version": "3.10.8"
  }
 },
 "nbformat": 4,
 "nbformat_minor": 5
}
