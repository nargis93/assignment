{
 "cells": [
  {
   "cell_type": "code",
   "execution_count": 24,
   "id": "035f4193-c9ae-49ea-97c3-dc320435178e",
   "metadata": {},
   "outputs": [],
   "source": [
    "import numpy as np\n",
    "list = [ '1' , '2' , '3' , '4' , '5' ]\n",
    "array_list = np.array(object = list)"
   ]
  },
  {
   "cell_type": "code",
   "execution_count": 25,
   "id": "b7d5b70d-8be1-4eb2-8751-edc59a58f4a7",
   "metadata": {},
   "outputs": [
    {
     "data": {
      "text/plain": [
       "list"
      ]
     },
     "execution_count": 25,
     "metadata": {},
     "output_type": "execute_result"
    }
   ],
   "source": [
    "type(list)"
   ]
  },
  {
   "cell_type": "code",
   "execution_count": 26,
   "id": "ecd29dee-3812-4bc5-b47b-b06ab13f736e",
   "metadata": {},
   "outputs": [
    {
     "data": {
      "text/plain": [
       "numpy.ndarray"
      ]
     },
     "execution_count": 26,
     "metadata": {},
     "output_type": "execute_result"
    }
   ],
   "source": [
    "type(array_list)"
   ]
  },
  {
   "cell_type": "code",
   "execution_count": 27,
   "id": "8f5f08a8-c2bf-49a3-ab00-433c2c06da54",
   "metadata": {},
   "outputs": [
    {
     "ename": "SyntaxError",
     "evalue": "invalid character '’' (U+2019) (1034571100.py, line 3)",
     "output_type": "error",
     "traceback": [
      "\u001b[0;36m  Cell \u001b[0;32mIn[27], line 3\u001b[0;36m\u001b[0m\n\u001b[0;31m    using [] containing data values. Contents of lists can be easily merged and copied using Python’s inbuilt functions.\u001b[0m\n\u001b[0m                                                                                                   ^\u001b[0m\n\u001b[0;31mSyntaxError\u001b[0m\u001b[0;31m:\u001b[0m invalid character '’' (U+2019)\n"
     ]
    }
   ],
   "source": [
    " Q1 ANS = 1. A list in Python is an inbuilt collection of items that can contain elements of multiple data types, which may be either\n",
    "numeric, character logical values, etc. It is an ordered collection supporting negative indexing. A list can be created\n",
    "using [] containing data values. Contents of lists can be easily merged and copied using Python’s inbuilt functions.\n",
    "2 . An array is a vector containing homogeneous elements i.e. belonging to the same data type. Elements are allocated with \n",
    "contiguous memory locations. Typically the size of an array is fixed. Th e insertion and deletion costs are high as \n",
    "compared to the list howeverindexing is faster in the Arrays due to contiguous memory allocation. Arrays can be used by\n",
    "importing the array module."
   ]
  },
  {
   "cell_type": "code",
   "execution_count": null,
   "id": "7d5765dc-0a2c-4e8f-87c8-0779ba71cbca",
   "metadata": {},
   "outputs": [],
   "source": [
    "Q 2 ANS ="
   ]
  },
  {
   "cell_type": "code",
   "execution_count": 28,
   "id": "cd788c0b-c7ba-48b1-8b6e-c83e637fd9c7",
   "metadata": {},
   "outputs": [
    {
     "name": "stdout",
     "output_type": "stream",
     "text": [
      "<class 'list'>\n"
     ]
    }
   ],
   "source": [
    "for item in [list]:\n",
    "    print (type(item))"
   ]
  },
  {
   "cell_type": "code",
   "execution_count": 29,
   "id": "3f385e74-e362-46ad-84b9-b7e52fb61023",
   "metadata": {},
   "outputs": [
    {
     "name": "stdout",
     "output_type": "stream",
     "text": [
      "Datatype: <U1\n"
     ]
    }
   ],
   "source": [
    "print('Datatype:', array_list.dtype)"
   ]
  },
  {
   "cell_type": "code",
   "execution_count": null,
   "id": "7a71586c-d885-4843-8152-c21f41c35704",
   "metadata": {},
   "outputs": [],
   "source": [
    "Q 3 ANS = "
   ]
  },
  {
   "cell_type": "code",
   "execution_count": 30,
   "id": "fee94b1f-262a-41f0-b506-181fc8ee4e8b",
   "metadata": {},
   "outputs": [],
   "source": [
    "array_list = np.array(object = list_, dtype = int)"
   ]
  },
  {
   "cell_type": "code",
   "execution_count": 31,
   "id": "1d551133-3cee-4d4f-b76c-8a5f8e386369",
   "metadata": {},
   "outputs": [
    {
     "name": "stdout",
     "output_type": "stream",
     "text": [
      "<class 'list'>\n"
     ]
    }
   ],
   "source": [
    "for item in [list]:\n",
    "    print (type(item))"
   ]
  },
  {
   "cell_type": "code",
   "execution_count": 32,
   "id": "d160c108-a373-493e-b727-2f547ada2097",
   "metadata": {},
   "outputs": [
    {
     "name": "stdout",
     "output_type": "stream",
     "text": [
      "Datatype: int64\n"
     ]
    }
   ],
   "source": [
    "print('Datatype:', array_list.dtype)"
   ]
  },
  {
   "cell_type": "code",
   "execution_count": null,
   "id": "b5b4917c-9670-4685-ae38-a954595a6603",
   "metadata": {},
   "outputs": [],
   "source": [
    "Q 4 ANS ="
   ]
  },
  {
   "cell_type": "code",
   "execution_count": 33,
   "id": "ff9fa26b-b9ae-4842-93de-66859d92ebdc",
   "metadata": {},
   "outputs": [],
   "source": [
    "import numpy as np\n",
    "num_list = [ [ 1 , 2 , 3 ] , [ 4 , 5 , 6 ] ]\n",
    "num_array = np.array(object = num_list)"
   ]
  },
  {
   "cell_type": "code",
   "execution_count": 35,
   "id": "dac2fb13-0102-47d8-9b89-a0162d9a2983",
   "metadata": {},
   "outputs": [
    {
     "data": {
      "text/plain": [
       "(2, 3)"
      ]
     },
     "execution_count": 35,
     "metadata": {},
     "output_type": "execute_result"
    }
   ],
   "source": [
    "num_array.shape\n"
   ]
  },
  {
   "cell_type": "code",
   "execution_count": 36,
   "id": "48210d21-1798-4b14-a273-0a6da211aee0",
   "metadata": {},
   "outputs": [
    {
     "data": {
      "text/plain": [
       "6"
      ]
     },
     "execution_count": 36,
     "metadata": {},
     "output_type": "execute_result"
    }
   ],
   "source": [
    "num_array.size"
   ]
  },
  {
   "cell_type": "code",
   "execution_count": null,
   "id": "6de187d4-6dc8-449a-803e-39c6354289f0",
   "metadata": {},
   "outputs": [],
   "source": [
    " Q 5 ANS = "
   ]
  },
  {
   "cell_type": "code",
   "execution_count": 38,
   "id": "e5a649de-51e5-4df5-b96d-b60624c93e1b",
   "metadata": {},
   "outputs": [],
   "source": [
    "arr = np.zeros((3,3))"
   ]
  },
  {
   "cell_type": "code",
   "execution_count": 39,
   "id": "1a3fa902-5bbe-4345-8bed-ffe4c4ac600d",
   "metadata": {},
   "outputs": [
    {
     "data": {
      "text/plain": [
       "array([[0., 0., 0.],\n",
       "       [0., 0., 0.],\n",
       "       [0., 0., 0.]])"
      ]
     },
     "execution_count": 39,
     "metadata": {},
     "output_type": "execute_result"
    }
   ],
   "source": [
    "arr"
   ]
  },
  {
   "cell_type": "code",
   "execution_count": 40,
   "id": "6cad1e86-5eb4-4cb4-ab61-65c2714ebc21",
   "metadata": {},
   "outputs": [
    {
     "data": {
      "text/plain": [
       "9"
      ]
     },
     "execution_count": 40,
     "metadata": {},
     "output_type": "execute_result"
    }
   ],
   "source": [
    "arr.size"
   ]
  },
  {
   "cell_type": "code",
   "execution_count": 41,
   "id": "b8cc59c2-65e1-4945-b0db-c76c19a21a50",
   "metadata": {},
   "outputs": [
    {
     "data": {
      "text/plain": [
       "(3, 3)"
      ]
     },
     "execution_count": 41,
     "metadata": {},
     "output_type": "execute_result"
    }
   ],
   "source": [
    "arr.shape"
   ]
  },
  {
   "cell_type": "code",
   "execution_count": null,
   "id": "7977ba25-fdd9-4d17-9a83-7ec9fd9c7e43",
   "metadata": {},
   "outputs": [],
   "source": [
    " Q 6 ANS = "
   ]
  },
  {
   "cell_type": "code",
   "execution_count": 42,
   "id": "ccb7eba3-47eb-4bd7-bc6b-8d9fc31869cc",
   "metadata": {},
   "outputs": [],
   "source": [
    "arr1 = np.eye(5)"
   ]
  },
  {
   "cell_type": "code",
   "execution_count": 43,
   "id": "fcb32bc9-fc94-44bf-85d9-9443863eb086",
   "metadata": {},
   "outputs": [
    {
     "data": {
      "text/plain": [
       "array([[1., 0., 0., 0., 0.],\n",
       "       [0., 1., 0., 0., 0.],\n",
       "       [0., 0., 1., 0., 0.],\n",
       "       [0., 0., 0., 1., 0.],\n",
       "       [0., 0., 0., 0., 1.]])"
      ]
     },
     "execution_count": 43,
     "metadata": {},
     "output_type": "execute_result"
    }
   ],
   "source": [
    "arr1"
   ]
  },
  {
   "cell_type": "code",
   "execution_count": null,
   "id": "03df228d-03ec-47df-be93-5db4f076b9bd",
   "metadata": {},
   "outputs": [],
   "source": []
  }
 ],
 "metadata": {
  "kernelspec": {
   "display_name": "Python 3 (ipykernel)",
   "language": "python",
   "name": "python3"
  },
  "language_info": {
   "codemirror_mode": {
    "name": "ipython",
    "version": 3
   },
   "file_extension": ".py",
   "mimetype": "text/x-python",
   "name": "python",
   "nbconvert_exporter": "python",
   "pygments_lexer": "ipython3",
   "version": "3.10.8"
  }
 },
 "nbformat": 4,
 "nbformat_minor": 5
}
