{
 "cells": [
  {
   "cell_type": "markdown",
   "id": "55477c28-3697-480c-bdc8-ebe7c5b65517",
   "metadata": {},
   "source": [
    "Q1. Explain the concept of R-squared in linear regression models. How is it calculated, and what does it\n",
    "represent?\n",
    "Ans - \n",
    "R-Squared (R² or the coefficient of determination) is a statistical measure in a regression model that determines the proportion of variance in the dependent variable that can be explained by the independent variable. In other words, r-squared shows how well the data fit the regression model (the goodness of fit)."
   ]
  },
  {
   "cell_type": "markdown",
   "id": "b49caea1-ef80-453e-83ff-a36f39daa2be",
   "metadata": {},
   "source": [
    "Q2. Define adjusted R-squared and explain how it differs from the regular R-squared.\n",
    "ANS -\n",
    "Adjusted R-squared is a modified version of R-squared that has been adjusted for the number of predictors in the model. The adjusted R-squared increases when the new term improves the model more than would be expected by chance."
   ]
  },
  {
   "cell_type": "markdown",
   "id": "93244acd-39ce-4f57-be43-0bccb81a47ef",
   "metadata": {},
   "source": [
    "Q3. When is it more appropriate to use adjusted R-squared?\n",
    "ANS - \n",
    "The adjusted R-squared is a modified version of R-squared that adjusts for predictors that are not significant in a regression model. Compared to a model with additional input variables, a lower adjusted R-squared indicates that the additional input variables are not adding value to the model."
   ]
  },
  {
   "cell_type": "markdown",
   "id": "07ebab0e-c5f3-4cd3-907c-f9dbc1289300",
   "metadata": {},
   "source": [
    "Q4. What are RMSE, MSE, and MAE in the context of regression analysis? How are these metrics\n",
    "calculated, and what do they represent?\n",
    "ANS -\n",
    "Mean Squared Error(MSE) and Root Mean Square Error penalizes the large prediction errors vi-a-vis Mean Absolute Error (MAE). However, RMSE is widely used than MSE to evaluate the performance of the regression model with other random models as it has the same units as the dependent variable (Y-axis)."
   ]
  },
  {
   "cell_type": "markdown",
   "id": "79cde11b-b15a-4487-b4df-28f00cf3df3e",
   "metadata": {},
   "source": [
    "Q5. Discuss the advantages and disadvantages of using RMSE, MSE, and MAE as evaluation metrics in\n",
    "regression analysis.\n",
    "ANS -\n",
    "It is expected that the value of the MSE errors are higher than the MAE errors by something around the power of two, so nothing new under the sun here. But when taking the square root of the MSE and getting the RMSE we get a mean around 20, which is higher than the MAE."
   ]
  },
  {
   "cell_type": "markdown",
   "id": "155079a2-9ff6-469f-bd59-aa5b44c71d8c",
   "metadata": {},
   "source": [
    "Q6. Explain the concept of Lasso regularization. How does it differ from Ridge regularization, and when is\n",
    "it more appropriate to use?\n",
    "ANS - \n",
    "Only difference between Ridge and Lasso regularization term is that in Lasso regression it adds L1 norm of weight vector to the cost function which allows Lasso regression to eliminate least important features i.e. it performs auto feature selection. Hyperparameter α behave the same way thus α =0 is linear regression."
   ]
  },
  {
   "cell_type": "markdown",
   "id": "5e91621b-bc64-467e-98d4-84750adf2f3e",
   "metadata": {},
   "source": [
    "Q7. How do regularized linear models help to prevent overfitting in machine learning? Provide an\n",
    "example to illustrate.\n",
    "ANS -\n",
    "By doing this, regularization helps to prevent overfitting, and can lead to better performance on new, unseen data. An example of a regularization term is the L2 regularization term, which adds a penalty based on the sum of the squares of the model's parameters."
   ]
  },
  {
   "cell_type": "markdown",
   "id": "c60deb38-8553-438d-9fa7-c7cf57b7ca8e",
   "metadata": {},
   "source": [
    "Q8. Discuss the limitations of regularized linear models and explain why they may not always be the best\n",
    "choice for regression analysis.\n",
    "ANS -\n",
    "Linear regression has some drawbacks that can limit its accuracy and applicability for certain data sets. It is sensitive to multicollinearity, meaning that if some of the independent variables are highly correlated with each other, it can affect the stability and precision of the coefficients."
   ]
  },
  {
   "cell_type": "markdown",
   "id": "51c205f7-bf50-495d-9464-00dd09afbc5b",
   "metadata": {},
   "source": [
    "Q9. You are comparing the performance of two regression models using different evaluation metrics.\n",
    "Model A has an RMSE of 10, while Model B has an MAE of 8. Which model would you choose as the better\n",
    "performer, and why? Are there any limitations to your choice of metric?\n",
    "ANS -\n",
    "\n",
    "MODEL A RMSE 10, MODEL B MAE 8 \n",
    "MODEL A WILL BE BETTER \n",
    "the independent variables are highly correlated with each other"
   ]
  },
  {
   "cell_type": "markdown",
   "id": "0bf2c4c2-abc2-48de-a690-b3170c6191f6",
   "metadata": {},
   "source": [
    "Q10. You are comparing the performance of two regularized linear models using different types of\n",
    "regularization. Model A uses Ridge regularization with a regularization parameter of 0.1, while Model B\n",
    "uses Lasso regularization with a regularization parameter of 0.5. Which model would you choose as the\n",
    "better performer, and why? Are there any trade-offs or limitations to your choice of regularization\n",
    "method?\n",
    "\n",
    "ANS -\n",
    "Model A    Ridge regularization, regularization parameter =  0.1,\n",
    "Model B    Lasso regularization, regularization parameter = 0.5\n",
    "on the training set, we estimate several different Ridge regressions, with different values of the regularization parameter; on the validation set, we choose the best model (the regularization parameter which gives the lowest MSE on the validation set)."
   ]
  }
 ],
 "metadata": {
  "kernelspec": {
   "display_name": "Python 3 (ipykernel)",
   "language": "python",
   "name": "python3"
  },
  "language_info": {
   "codemirror_mode": {
    "name": "ipython",
    "version": 3
   },
   "file_extension": ".py",
   "mimetype": "text/x-python",
   "name": "python",
   "nbconvert_exporter": "python",
   "pygments_lexer": "ipython3",
   "version": "3.10.8"
  }
 },
 "nbformat": 4,
 "nbformat_minor": 5
}
