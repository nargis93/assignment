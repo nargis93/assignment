{
 "cells": [
  {
   "cell_type": "markdown",
   "id": "c4b07c7a-902a-4c9b-a3e2-f31cde8ccc16",
   "metadata": {},
   "source": [
    "Q1. What is Elastic Net Regression and how does it differ from other regression techniques?\n",
    "ans \n",
    "Elastic net regression is a type of linear regression that combines the advantages of lasso and ridge methods. It can handle multicollinearity, reduce overfitting, and select relevant features. But it also has some drawbacks and challenges that you should be aware of"
   ]
  },
  {
   "cell_type": "markdown",
   "id": "2bd47b97-e898-406b-8a0c-1e0401ff5155",
   "metadata": {},
   "source": [
    "Q2. How do you choose the optimal values of the regularization parameters for Elastic Net Regression?\n",
    "ans \n",
    "Larger values of alpha imply stronger regularization (less-overfitting, may be underfitting!). Smaller values imply weak regularization (overfitting). We want to build a model that neither overfits nor underfit the data. So, we need to choose an optimal value for alpha."
   ]
  },
  {
   "cell_type": "markdown",
   "id": "ed2816cc-94de-45ef-89c2-eeb80cd78ad9",
   "metadata": {},
   "source": [
    "Q3. What are the advantages and disadvantages of Elastic Net Regression?\n",
    "ans \n",
    "\n",
    "ADVANTAGES\n",
    "Elastic net regression has several advantages over lasso and ridge regression, depending on the data and the problem. For instance, it can handle multicollinearity better than lasso regression by grouping correlated features and selecting the most representative ones.\n",
    "DISADVANTAGES\n",
    "It may not perform optimally when there is no correlation between features or when the number of features is much smaller than the number of observations, as it may lose predictive power or introduce bias."
   ]
  },
  {
   "cell_type": "markdown",
   "id": "3f5ff494-c4af-401e-b610-0f3668c66ab8",
   "metadata": {},
   "source": [
    "Q4. What are some common use cases for Elastic Net Regression?\n",
    "ANS \n",
    "Linear Regression Use Cases\n",
    "Sales Forecasting.\n",
    "Risk Analysis.\n",
    "Housing Applications To Predict the prices and other factors.\n",
    "Finance Applications To Predict Stock prices, investment evaluation, etc"
   ]
  },
  {
   "cell_type": "markdown",
   "id": "f2d67600-74ef-43e7-84d4-c8632c1a7b45",
   "metadata": {},
   "source": [
    "Q5. How do you interpret the coefficients in Elastic Net Regression?\n",
    "ANS \n",
    "The coefficients of elastic net regression represent the linear relationship between the features and the target variable, adjusted by the regularization terms. The larger the absolute value of a coefficient, the stronger the effect of the corresponding feature on the target variable."
   ]
  },
  {
   "cell_type": "markdown",
   "id": "e4bd5444-2fda-4255-94a6-c2aade2d731a",
   "metadata": {},
   "source": [
    "Q6. How do you handle missing values when using Elastic Net Regression?\n",
    "ANS \n",
    "1.Pairwise deletion is a method of handling missing values where only the observations with complete data are used in each pairwise correlation or regression analysis. This method assumes that the missing data is MCAR, and it is appropriate when the missing data is not too large.\n",
    "2.When the response is missing, we can use a predictive model to predict the missing response, then create a new fully-observed dataset containing the predictions instead of the missing values, and finally re-estimate the predictive model in this expanded dataset"
   ]
  },
  {
   "cell_type": "markdown",
   "id": "d3a8fc66-1297-4c78-86ce-1b7a23bd03dc",
   "metadata": {},
   "source": [
    "Q7. How do you use Elastic Net Regression for feature selection?\n",
    "ANS \n",
    "The coefficients that are zero indicate that the corresponding features are not relevant for the model, and they are eliminated by the lasso penalty. Therefore, you can use the coefficients of elastic net regression to rank the features by their importance and select the ones that have non-zero coefficients."
   ]
  },
  {
   "cell_type": "markdown",
   "id": "7d64b712-da7d-4d13-8074-4f9ea0885d48",
   "metadata": {},
   "source": [
    "Q8. How do you pickle and unpickle a trained Elastic Net Regression model in Python?\n",
    "ANS \n",
    "Using pickle , simply save your model on disc with dump() function and de-pickle it into your python code with load() function. Use open() function to create and/or read from a . pkl file and make sure you open the file in the binary format by wb for write and rb for read mode."
   ]
  },
  {
   "cell_type": "markdown",
   "id": "306e2f13-2abb-4f5d-bdc3-ffd9dc34e550",
   "metadata": {},
   "source": [
    "Q9. What is the purpose of pickling a model in machine learning?\n",
    "ANS \n",
    "Pickle is a useful Python tool that allows you to save your ML models, to minimise lengthy re-training and allow you to share, commit, and re-load pre-trained machine learning models. Most data scientists working in ML will use Pickle or Joblib to save their ML model for future use."
   ]
  }
 ],
 "metadata": {
  "kernelspec": {
   "display_name": "Python 3 (ipykernel)",
   "language": "python",
   "name": "python3"
  },
  "language_info": {
   "codemirror_mode": {
    "name": "ipython",
    "version": 3
   },
   "file_extension": ".py",
   "mimetype": "text/x-python",
   "name": "python",
   "nbconvert_exporter": "python",
   "pygments_lexer": "ipython3",
   "version": "3.10.8"
  }
 },
 "nbformat": 4,
 "nbformat_minor": 5
}
