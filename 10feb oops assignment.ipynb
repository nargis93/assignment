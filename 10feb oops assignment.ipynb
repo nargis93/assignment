{
 "cells": [
  {
   "cell_type": "code",
   "execution_count": null,
   "id": "f21be583-8761-4d5f-a177-8ebe77d8be59",
   "metadata": {},
   "outputs": [],
   "source": [
    "\n",
    "Ans1=\n",
    "Mode\tDescription\n",
    "'x'\tOpen a file for exclusive creation. If the file already exists, the operation fails.\n",
    "'a'\tAppending at the end of the file without truncating it. Creates a new file if it does not exist.\n",
    "'t'\tOpen in text mode. (default)\n",
    "'b'\tOpen in binary mode.\n",
    "\n",
    "Ans 2 =\n",
    "       The close() method closes an open file. You should always close your files,\n",
    "       in some cases, due to buffering, changes made to a file may not show until you close the file.\n",
    "Ans 3 =\n",
    "\\\\program\\\\\n",
    "file = open(\"myfile.txt\",\"w\")\n",
    "L = [\"i want to become data scientist\"]\n",
    "file.writelines(L)\n",
    "file.close()  \n",
    "\n",
    "file = open(\"myfile.txt\",\"r+\") \n",
    "print(file.read())\n",
    "print()\n",
    " Output:\n",
    "i want to become data scientist\n",
    "Ans 4 =\n",
    "Read ( ): Returns the read bytes in the form of a string. Reads n bytes; if n is not specified, then reads the entire\n",
    "file. Readline ( ): Reads a line of the file and returns in the form of a string. For specified n, reads at most n bytes.\n",
    "\n",
    "Ans 5 = \n",
    "     The with statement works with the open() function to open a file. Unlike open() where you\n",
    "      have to close the file with the close() method, the with statement closes the file for you\n",
    "    without youtelling it to. This is becausethe with statement calls 2 built-in methods behind \n",
    "    the scene – __enter()__ and __exit()__ .\n",
    "Ans 6 = \n",
    "The only difference between the write() and writelines() is that write() is used to write a \n",
    "string to an already pened file while writelines() method is used to write a list of strings in\n",
    "an opened file."
   ]
  }
 ],
 "metadata": {
  "kernelspec": {
   "display_name": "Python 3 (ipykernel)",
   "language": "python",
   "name": "python3"
  },
  "language_info": {
   "codemirror_mode": {
    "name": "ipython",
    "version": 3
   },
   "file_extension": ".py",
   "mimetype": "text/x-python",
   "name": "python",
   "nbconvert_exporter": "python",
   "pygments_lexer": "ipython3",
   "version": "3.10.8"
  }
 },
 "nbformat": 4,
 "nbformat_minor": 5
}
