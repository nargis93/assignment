{
 "cells": [
  {
   "cell_type": "markdown",
   "id": "6978194c-af8c-4413-8720-86e5b419db79",
   "metadata": {},
   "source": [
    "Q1. What is Ridge Regression, and how does it differ from ordinary least squares regression?\n",
    "\n",
    "ANS -\n",
    "Ridge Regression is a technique used when the data suffers from multicollinearity ( independent variables are highly correlated). In multicollinearity, even though the least squares estimates (OLS) are unbiased, their variances are large which deviates the observed value far from the true value."
   ]
  },
  {
   "cell_type": "markdown",
   "id": "14484b42-d065-4710-89b0-8c09027b6a44",
   "metadata": {},
   "source": [
    "Q2. What are the assumptions of Ridge Regression?\n",
    "\n",
    "ANS - \n",
    "The assumptions of ridge regression are the same as that of linear regression: linearity, constant variance, and independence."
   ]
  },
  {
   "cell_type": "markdown",
   "id": "34727ec5-ef3f-4785-a1e9-0d1b29918cc3",
   "metadata": {},
   "source": [
    "Q3. How do you select the value of the tuning parameter (lambda) in Ridge Regression?\n",
    "\n",
    "ANS - \n",
    "1.For implementing cross-validation (CV) in order to select λ we will have to use the function cv. ...\n",
    "2.To perform cross-validation for selection of λ we simply run the following:\n",
    "lambda. ...\n",
    "3.We see that in this case the 1-se λ is much larger than the min-CV λ .\n",
    "We can use AIC or BIC to select the tuning param- eter for linear predictive models. However, for gen- eral predictive models, cross-validation and bootstrap work better because they directly estimate prediction error. Though, cross-validation is more widely used than bootstrap."
   ]
  },
  {
   "cell_type": "markdown",
   "id": "47cccb20-f5c4-448a-ab0f-1814a80dccba",
   "metadata": {},
   "source": [
    "Q4. Can Ridge Regression be used for feature selection? If yes, how?\n",
    "\n",
    "ANS - \n",
    "You need to stay within the shrinkage model context. You could see ridge regression as doing the feature 'selection' in a nuanced way by reducing the size of the coefficients instead of setting them equal to zero. You could elliminate the features with the smaller coefficients*, but it is a bit crude method."
   ]
  },
  {
   "cell_type": "markdown",
   "id": "206aa1a6-81b3-44d2-b18a-10e8656ae124",
   "metadata": {},
   "source": [
    "Q5. How does the Ridge Regression model perform in the presence of multicollinearity?\n",
    "\n",
    "ANS - \n",
    "Multicollinearity happens when predictor variables exhibit a correlation among themselves. Ridge regression aims at reducing the standard error by adding some bias in the estimates of the regression. The reduction of the standard error in regression estimates significantly increases the reliability of the estimates"
   ]
  },
  {
   "cell_type": "markdown",
   "id": "428a175f-acab-4448-8773-478b5ee093ff",
   "metadata": {},
   "source": [
    "Q6. Can Ridge Regression handle both categorical and continuous independent variables?\n",
    "\n",
    "ANS - \n",
    "YES"
   ]
  },
  {
   "cell_type": "markdown",
   "id": "be55e672-e419-4f5e-8d15-b3b5b0da5dbd",
   "metadata": {},
   "source": [
    "Q7. How do you interpret the coefficients of Ridge Regression?\n",
    "\n",
    "ANS -\n",
    "Geometric Interpretation of Ridge Regression:\n",
    "\n",
    "The ellipses correspond to the contours of the residual sum of squares (RSS): the inner ellipse has smaller RSS, and RSS is minimized at ordinal least square (OLS) estimates. For , the constraint in ridge regression corresponds to a circle, ∑ j = 1 p β j 2 < c ."
   ]
  },
  {
   "cell_type": "markdown",
   "id": "745d9106-97ff-4655-a092-529571a290ae",
   "metadata": {},
   "source": [
    "Q8. Can Ridge Regression be used for time-series data analysis? If yes, how?\n",
    "\n",
    "ANS - \n",
    "The ridge regression technique can be used to predict time-series. Ridge regression (RR) can also solve the multicollinearity problem that exists in linear regression."
   ]
  }
 ],
 "metadata": {
  "kernelspec": {
   "display_name": "Python 3 (ipykernel)",
   "language": "python",
   "name": "python3"
  },
  "language_info": {
   "codemirror_mode": {
    "name": "ipython",
    "version": 3
   },
   "file_extension": ".py",
   "mimetype": "text/x-python",
   "name": "python",
   "nbconvert_exporter": "python",
   "pygments_lexer": "ipython3",
   "version": "3.10.8"
  }
 },
 "nbformat": 4,
 "nbformat_minor": 5
}
