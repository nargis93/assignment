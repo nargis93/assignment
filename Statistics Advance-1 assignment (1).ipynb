{
 "cells": [
  {
   "cell_type": "code",
   "execution_count": null,
   "id": "ed985c2c-4436-4a5a-9fb2-be04d66d8e87",
   "metadata": {},
   "outputs": [],
   "source": [
    " Q 1 ANS =The probability density function (PDF) is a statistical expression that defines the probability that some outcome will \n",
    "    occur.In this function, the probability is the percentage of a dataset's distribution that falls between two criteria.\n",
    "    "
   ]
  },
  {
   "cell_type": "code",
   "execution_count": null,
   "id": "0704f813-290e-4f05-a6f6-dd2b9cd88b53",
   "metadata": {},
   "outputs": [],
   "source": [
    "Q 2 ANS =There are two types of probability distributions:\n",
    "1.Discrete probability distributions. 1.Binomial 2.Discrete Uniform 3.Poisson\n",
    "2.Continuous probability distributions. 1.Normal 2. Continuous Uniform 3. Log-normal 4.Exponential"
   ]
  },
  {
   "cell_type": "code",
   "execution_count": null,
   "id": "6d91ce6c-61f8-41f7-87ee-166c60464b6c",
   "metadata": {},
   "outputs": [],
   "source": [
    "Q 3 ANS="
   ]
  },
  {
   "cell_type": "code",
   "execution_count": 1,
   "id": "c9d16713-1700-44b7-b15b-c64d27a28f1d",
   "metadata": {},
   "outputs": [
    {
     "name": "stdout",
     "output_type": "stream",
     "text": [
      "0.0804410163156249\n"
     ]
    }
   ],
   "source": [
    "from scipy.stats import norm\n",
    "import numpy as np\n",
    "  \n",
    "data_start = -5\n",
    "data_end = 5\n",
    "data_points = 11\n",
    "data = np.linspace(data_start, data_end, data_points)\n",
    "  \n",
    "mean = np.mean(data)\n",
    "std = np.std(data)\n",
    "  \n",
    "probability_pdf = norm.pdf(3, loc=mean, scale=std)\n",
    "print(probability_pdf)"
   ]
  },
  {
   "cell_type": "code",
   "execution_count": null,
   "id": "21e54f05-5653-42de-9405-d247fc5d5dfb",
   "metadata": {},
   "outputs": [],
   "source": [
    "Q 4 ANS ="
   ]
  },
  {
   "cell_type": "code",
   "execution_count": null,
   "id": "062a7920-87a2-4271-afa5-717158d00160",
   "metadata": {},
   "outputs": [],
   "source": [
    "1. Binomial distribution is applicable when the trials are independent and each trial has just two outcomes success and\n",
    "failure.It is applied in coin tossing experiments, sampling inspection plan, genetic experiments and so on.\n",
    "2. Binomial distribution is known as bi-parametric distribution as it is characterized by two parameters n and p.\n",
    "This means that if the values of n and p are known, then the distribution is known completely.\n",
    "3. The mean of the binomial distribution is given by μ = np\n",
    "4. Depending on the values of the two parameters, binomial distribution may be uni-modal or bi-modal.\n",
    "To know the mode of binomial distribution, first we have to find the value of (n + 1)p. \n",
    "(n + 1)p is a non integer ----> Uni-modal\n",
    "Here, the mode  =  the largest integer contained in  (n+1)p\n",
    "(n + 1)p is a integer ----> Bi-modal  Here, the mode  =  (n + 1)p, (n + 1)p - 1\n",
    "5. The variance of the binomial distribution is given by σ2 = npq\n",
    "6. Since p and q are numerically less than or equal to 1,npq < np\n",
    "That is, variance of a binomial variable is always less than its mean.\n",
    "7. Variance of binomial variable X attains its maximum value at p = q = 0.5 and this maximum value is n/4.\n",
    "8. Additive property of binomial distribution.\n",
    "Let X and Y be the two independent binomial variables. \n",
    "X is having the parameters n1 and p and Y is having the parameters n2 and p. \n",
    "Then (X + Y) will also be a binomial variable with the parameters (n1 + n2) and p.\n"
   ]
  },
  {
   "cell_type": "code",
   "execution_count": null,
   "id": "e575cd35-f89e-4763-a7f8-0bf30e7c0f54",
   "metadata": {},
   "outputs": [],
   "source": [
    "Q 5 ANS "
   ]
  },
  {
   "cell_type": "code",
   "execution_count": 8,
   "id": "1b849b1d-2d4b-4283-adff-b458efc48dc0",
   "metadata": {},
   "outputs": [
    {
     "data": {
      "image/png": "[encoded data removed]",
      "text/plain": [
       "<Figure size 640x480 with 1 Axes>"
      ]
     },
     "metadata": {},
     "output_type": "display_data"
    }
   ],
   "source": [
    "from scipy.stats import binom\n",
    "import matplotlib.pyplot as plt\n",
    "# setting the values\n",
    "# of n and p\n",
    "n = 1000\n",
    "p = 0.4\n",
    "# defining list of r values\n",
    "r_values = list(range(n + 1))\n",
    "# list of pmf values\n",
    "dist = [binom.pmf(r, n, p) for r in r_values ]\n",
    "# plotting the graph \n",
    "plt.bar(r_values, dist)\n",
    "plt.show()"
   ]
  },
  {
   "cell_type": "code",
   "execution_count": null,
   "id": "9a7223e7-1c22-4430-8e89-a3a4eebf961d",
   "metadata": {},
   "outputs": [],
   "source": [
    " Q6 ANS ="
   ]
  },
  {
   "cell_type": "code",
   "execution_count": 9,
   "id": "8acf8019-ecc8-4d49-b5ef-548f71dcc884",
   "metadata": {},
   "outputs": [
    {
     "data": {
      "image/png": "[encoded data removed]",
      "text/plain": [
       "<Figure size 640x480 with 1 Axes>"
      ]
     },
     "metadata": {},
     "output_type": "display_data"
    }
   ],
   "source": [
    "# importing poisson from scipy\n",
    "from scipy.stats import poisson\n",
    "\n",
    "# importing numpy as np\n",
    "import numpy as np\n",
    "\n",
    "# importing matplotlib as plt\n",
    "import matplotlib.pyplot as plt\n",
    "\n",
    "\n",
    "# creating a numpy array for x-axis\n",
    "x = np.arange(0, 100, 0.5)\n",
    "\n",
    "# poisson distribution data for y-axis\n",
    "y = poisson.cdf(x, mu=50, loc=0)\n",
    "\n",
    "\n",
    "# plotting thescatter plot graph\n",
    "plt.scatter(x, y)\n",
    "\n",
    "# showing the graph\n",
    "plt.show()\n"
   ]
  },
  {
   "cell_type": "code",
   "execution_count": null,
   "id": "8ea68ab1-1226-494d-b680-431bc96b7012",
   "metadata": {},
   "outputs": [],
   "source": [
    " Q 7 ANS "
   ]
  },
  {
   "cell_type": "code",
   "execution_count": null,
   "id": "c96b7268-90a5-4632-a54f-d0a82d624c48",
   "metadata": {},
   "outputs": [],
   "source": [
    "Binomial distribution describes the distribution of binary data from a finite sample. Thus it gives the probability of \n",
    "getting r events out of n trials. Poisson distribution describes \n",
    "the distribution of binary data from an infinite sample. Thus it gives the probability of getting r events in a population."
   ]
  },
  {
   "cell_type": "code",
   "execution_count": null,
   "id": "3a940f8f-ff87-4d78-8701-a3382271350c",
   "metadata": {},
   "outputs": [],
   "source": [
    "Q 8 ANS = "
   ]
  },
  {
   "cell_type": "code",
   "execution_count": 1,
   "id": "aa9236d3-154b-47a7-be9d-11efe8d4a6a4",
   "metadata": {},
   "outputs": [
    {
     "data": {
      "text/plain": [
       "array([ 5,  5,  8,  6,  0,  7,  7,  4,  8,  5,  6,  3,  4,  4,  6,  3,  5,\n",
       "        6,  6,  6,  2,  7,  3,  6,  2,  8,  1,  6,  3,  4,  8,  8,  5,  1,\n",
       "        3,  7,  6,  3,  4,  4,  4,  3,  6,  8,  2,  3,  5,  7,  4,  6,  3,\n",
       "        6,  7,  4,  3,  6,  5,  3,  1,  5,  7,  1,  3, 10,  5,  5,  9,  5,\n",
       "        5,  9,  3,  4,  4,  6,  7,  6,  1,  6,  9,  1,  1,  8,  1,  7,  7,\n",
       "        5,  4,  8,  6,  2,  4,  4, 10,  5,  5,  4,  5,  3,  5,  4,  4, 11,\n",
       "        3,  3,  2,  5,  6,  5,  4,  3,  4,  3,  3,  2,  8,  3,  7,  6,  7,\n",
       "        8,  4,  5,  3,  4,  6,  5, 10,  4,  3, 10,  4,  6,  3,  2,  5,  5,\n",
       "        7,  4,  2, 10,  6,  4,  4,  3,  5,  4,  6,  4,  4,  9,  1,  4, 10,\n",
       "        7,  5,  6,  5,  4,  3,  7,  5,  2,  7,  7,  5,  7,  2,  7,  4,  3,\n",
       "        5,  7,  4,  8,  4,  5,  8,  4,  4,  9,  7, 12,  5,  8,  9,  1,  3,\n",
       "        3,  8,  5,  8,  7,  5,  5,  5,  8,  4,  7,  8,  5,  6,  4,  5,  5,\n",
       "        7,  6,  5,  4,  3,  6,  3,  5,  3,  8,  7,  7,  6,  5,  6,  2,  4,\n",
       "        4,  5,  4,  5,  5,  6,  4,  2,  6,  6, 10,  6,  3,  6,  5,  8,  3,\n",
       "        4,  9,  6,  3,  9,  1,  5,  4,  3,  5,  9,  5,  6,  3,  9,  4,  4,\n",
       "        3,  3,  8,  3,  6,  4,  6, 10,  3,  5,  7,  5,  4,  3,  5,  7,  4,\n",
       "        6,  6,  9,  5,  6,  2,  0,  8, 10,  4,  4,  7,  9,  5,  2,  3,  2,\n",
       "        4,  4,  5,  6,  5,  5,  4,  4,  9,  2,  8,  5,  6,  2,  6,  2,  4,\n",
       "        9,  3,  3,  3,  5,  5,  9,  7,  2,  2,  6,  7,  7, 10,  6,  6,  5,\n",
       "        9,  5,  9,  3, 12,  4,  3,  5,  3,  3,  6,  5,  4, 10,  5,  4,  1,\n",
       "        1,  8,  1,  2,  3,  5, 10,  6,  3, 11,  5,  7,  7,  4,  1,  5,  6,\n",
       "        7,  4,  5,  7,  7,  4,  4,  3, 10,  7,  2,  4,  5,  6,  5,  5,  6,\n",
       "        3,  6,  6,  3,  5,  9,  2,  8,  4,  3,  6,  6,  5,  9,  5, 12,  9,\n",
       "        6,  7,  4,  7,  6,  3,  6,  3,  3,  6,  2,  5,  7,  7,  6,  3,  1,\n",
       "        3,  5,  6,  6,  5,  7,  6,  8,  3,  5,  3,  3, 10,  4,  3,  6,  4,\n",
       "        4,  7,  3,  6,  3,  2,  5,  4,  8,  6,  6,  2,  2,  7,  6,  0,  7,\n",
       "        4,  3,  6,  2,  4,  7,  5,  4,  3,  4,  9,  6,  8,  8,  2,  3,  8,\n",
       "        3,  6,  4,  5,  3,  3,  6,  5,  2,  5,  6,  3,  3,  2,  3,  3,  2,\n",
       "        0,  2,  3,  6,  7,  4,  4,  7,  4,  3,  4,  3,  6,  4,  6,  6,  3,\n",
       "        4,  8,  3,  5,  7,  6,  9,  7, 10,  5,  7,  9,  5,  6,  8,  8,  1,\n",
       "        5,  3,  6,  6,  2,  4,  5,  4,  5,  4,  2,  6,  3,  4,  3,  1,  6,\n",
       "        2,  4,  5,  9,  4,  8,  5,  5,  2,  6,  5,  4,  2,  6,  5,  5,  1,\n",
       "        6,  4,  5,  7,  7,  5,  2,  6,  2,  3,  7,  4,  4,  9,  7,  5,  4,\n",
       "        3,  0,  7,  2,  4,  4,  6,  3,  6,  6,  6,  3,  6,  2,  5,  5,  7,\n",
       "        6,  5,  4,  0,  4,  5,  2,  8,  4,  5,  9,  7,  2,  4,  3,  5,  7,\n",
       "        5,  7,  4,  5,  6,  8,  2,  3,  7,  9,  8,  4,  5,  2,  2,  4,  4,\n",
       "        5,  5,  8,  5,  4,  8,  7,  3,  4,  6,  8,  6,  6,  6,  5,  2,  7,\n",
       "        4,  9,  7,  7,  7,  5,  6,  3,  8,  6,  2,  4,  3,  5,  6,  5,  6,\n",
       "        5,  4,  7,  7,  8,  8,  7,  8,  4,  3,  5,  3,  5,  5,  3,  0,  6,\n",
       "        8,  2,  4,  4,  4,  7,  2, 12,  1,  1,  3,  9,  5,  5,  7,  7,  4,\n",
       "        4,  8,  4,  4,  8,  4,  3,  5,  4,  4,  7,  5,  4,  3,  6,  3,  5,\n",
       "        4,  4,  7,  3,  5,  6,  4,  7,  4,  6,  4,  7,  4, 12,  8,  3,  5,\n",
       "        5,  6,  3,  8,  4,  8,  4,  5,  1,  8,  6,  4,  4,  5, 10,  6,  9,\n",
       "        7,  7,  5,  5,  2,  2, 10,  5,  4,  5,  7,  4,  9,  5,  5,  7,  7,\n",
       "        5,  3, 14,  8,  7,  5,  8,  6,  5,  4,  9,  2,  4,  8,  5,  7,  4,\n",
       "        5,  8, 10,  5,  6,  7,  2,  7,  4,  2,  3,  6,  5,  6,  5,  6,  1,\n",
       "        5,  2,  6,  6,  7,  8,  5,  3,  2,  3,  2,  3,  4,  9,  6,  5,  5,\n",
       "        4,  3,  4,  8,  3,  4,  3,  3,  6,  4,  3,  7,  8,  6,  6,  2,  4,\n",
       "        7,  2,  4,  4, 10,  3,  3,  2,  1,  7,  4,  4,  5,  9,  9,  5,  3,\n",
       "        7,  4,  8,  5,  5,  5,  3,  6,  3,  8,  6,  6,  2,  7,  6,  8,  5,\n",
       "        6,  6,  6,  6,  6,  5,  4,  4,  2,  5,  1,  6,  4,  6,  5,  5,  3,\n",
       "        3, 12,  7,  3,  1,  6,  6,  3,  4,  4,  5,  4,  6,  6, 10,  9,  4,\n",
       "        4,  1, 10,  8,  2,  8,  8, 10,  4,  3, 10,  8,  6,  5,  4,  5,  7,\n",
       "        9,  5,  5,  5,  5,  4,  6,  5,  5,  3,  5,  5,  7, 10,  4,  7,  3,\n",
       "        2,  8,  7,  5,  3,  3,  8,  5,  1,  3,  5,  5,  9,  3,  5,  2,  4,\n",
       "        1,  3,  5,  5,  6,  8,  4,  3,  5,  4,  3,  9,  6,  4,  3,  4,  3,\n",
       "        5,  6,  4,  5,  5,  1,  4,  9,  5,  4,  4,  6,  5,  4,  5,  3,  6,\n",
       "        5,  0,  3,  6,  9,  4,  2,  6,  6,  4,  2,  2,  7,  1,  7,  1, 10,\n",
       "        4,  7,  6,  3,  8,  4,  4,  4,  5,  8,  4,  2,  2,  5])"
      ]
     },
     "execution_count": 1,
     "metadata": {},
     "output_type": "execute_result"
    }
   ],
   "source": [
    "import numpy as np\n",
    "from scipy.stats import poisson\n",
    "import matplotlib.pyplot as plt\n",
    "rng = np.random.default_rng(seed=1234)\n",
    "rng.poisson(lam=5, size=1000)"
   ]
  },
  {
   "cell_type": "code",
   "execution_count": null,
   "id": "973b91de-e5d2-4420-9adb-569cc8c0187d",
   "metadata": {},
   "outputs": [],
   "source": [
    " Q9 ANS = "
   ]
  },
  {
   "cell_type": "code",
   "execution_count": null,
   "id": "7ac793ab-80fc-4d6e-970d-9cc6addbb9e1",
   "metadata": {},
   "outputs": [],
   "source": [
    "In a binomial distribution, there are only two possible outcomes, i.e. success or failure. Conversely, there are an unlimited\n",
    "number of possible outcomesin the case of poisson distribution. \n",
    "In binomial distribution Mean > Variance\n",
    "while in poisson distribution mean = variance."
   ]
  },
  {
   "cell_type": "code",
   "execution_count": null,
   "id": "bc40a428-81ab-4d7c-9fe7-8c36255f87ba",
   "metadata": {},
   "outputs": [],
   "source": [
    "Q 10 ANS "
   ]
  },
  {
   "cell_type": "code",
   "execution_count": null,
   "id": "f3800ed5-f282-4892-9129-4dc2da138491",
   "metadata": {},
   "outputs": [],
   "source": [
    "A normal distribution is symmetric from the peak of the curve, where the mean is. This means that most of the observed data\n",
    "is clustered near the mean,\n",
    "while the data become less frequent when farther away from the mean. The resultant graph appears as bell-shaped where the \n",
    "mean, median, and mode are of the same values and appear at the peak of the curve.\n",
    "The graph is a perfect symmetry, such that, if you fold it at the middle, you will get two equal halves since one-half of \n",
    "the observable data points fall on each side of the graph."
   ]
  }
 ],
 "metadata": {
  "kernelspec": {
   "display_name": "Python 3 (ipykernel)",
   "language": "python",
   "name": "python3"
  },
  "language_info": {
   "codemirror_mode": {
    "name": "ipython",
    "version": 3
   },
   "file_extension": ".py",
   "mimetype": "text/x-python",
   "name": "python",
   "nbconvert_exporter": "python",
   "pygments_lexer": "ipython3",
   "version": "3.10.8"
  }
 },
 "nbformat": 4,
 "nbformat_minor": 5
}
