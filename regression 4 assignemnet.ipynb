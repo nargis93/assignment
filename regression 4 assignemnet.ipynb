{
 "cells": [
  {
   "cell_type": "markdown",
   "id": "45f6a548-5087-4898-89a2-3dcbaa8abbba",
   "metadata": {},
   "source": [
    "Q1. What is Lasso Regression, and how does it differ from other regression techniques?\n",
    "ans -\n",
    "Lasso regression is a regularization technique. It is used over regression methods for a more accurate prediction. This model uses shrinkage. Shrinkage is where data values are shrunk towards a central point as the mean."
   ]
  },
  {
   "cell_type": "markdown",
   "id": "8446c6ce-6145-47bd-a238-9aa90a8b13c6",
   "metadata": {},
   "source": [
    "Q2. What is the main advantage of using Lasso Regression in feature selection?\n",
    "ans - \n",
    "The main advantage of a LASSO regression model is that it has the ability to set the coefficients for features it does not consider interesting to zero. This means that the model does some automatic feature selection to decide which features should and should not be included on its own."
   ]
  },
  {
   "cell_type": "markdown",
   "id": "17c51417-4f61-4bb5-910f-3536fc8860f1",
   "metadata": {},
   "source": [
    "Q3. How do you interpret the coefficients of a Lasso Regression model?\n",
    "ans - \n",
    "The coefficients can be used to understand the impact of each feature on the target variable, and also help in feature selection. In this case, we can see that some of the coefficients are zero, indicating that those features may not be important in predicting the target variable."
   ]
  },
  {
   "cell_type": "markdown",
   "id": "56c399a9-e9f6-4352-9f6a-09256d6e7d02",
   "metadata": {},
   "source": [
    "Q4. What are the tuning parameters that can be adjusted in Lasso Regression, and how do they affect the\n",
    "model's performance?\n",
    "ans - \n",
    "A tuning parameter (λ), sometimes called a penalty parameter, controls the strength of the penalty term in ridge regression and lasso regression. It is basically the amount of shrinkage, where data values are shrunk towards a central point, like the mean."
   ]
  },
  {
   "cell_type": "markdown",
   "id": "b746a404-1fcd-4537-be7f-e79029d652f4",
   "metadata": {},
   "source": [
    "Q5. Can Lasso Regression be used for non-linear regression problems? If yes, how?\n",
    "ans - \n",
    "LASSO is a linear method, but you could make nonlinear terms through transformation (e.g. Lag1^2) and see if they stay in the model\n",
    "Lasso is a modification of linear regression, where the model is penalized for the sum of absolute values of the weights. Thus, the absolute values of weight will be (in general) reduced, and many will tend to be zeros."
   ]
  },
  {
   "cell_type": "markdown",
   "id": "ae97d2d5-cbe6-439b-8579-eab394f903f0",
   "metadata": {},
   "source": [
    "Q6. What is the difference between Ridge Regression and Lasso Regression?\n",
    "ans-\n",
    "Lasso will often zero out features while Ridge will reduce the weight of most in the model. \n",
    "The difference between ridge and lasso regression is that it tends to make coefficients to absolute zero as compared to Ridge which never sets the value of coefficient to absolute zero. Limitation of Lasso Regression: Lasso sometimes struggles with some types of data."
   ]
  },
  {
   "cell_type": "markdown",
   "id": "bd93b601-f903-4358-91e1-399a4fe55ba3",
   "metadata": {},
   "source": [
    "Q7. Can Lasso Regression handle multicollinearity in the input features? If yes, how?\n",
    "ans-\n",
    "\n",
    "Another Tolerant Method for dealing with multicollinearity known as Least Absolute Shrinkage and Selection Operator (LASSO) regression, solves the same constrained optimization problem as ridge regression, but uses the L1 norm rather than the L2 norm as a measure of complexity."
   ]
  },
  {
   "cell_type": "markdown",
   "id": "5a151420-da73-46c9-ad62-62dc8a11f952",
   "metadata": {},
   "source": [
    "Q8. How do you choose the optimal value of the regularization parameter (lambda) in Lasso Regression?\n",
    "ans - \n",
    "\n",
    "We should find the perfect balance to prevent overfitting. Lambda is a positive value and can range from 0 to positive infinity. But typically chosen to be between 0 and 10.\n",
    "Cross-validation is a way to tune the hyperparameters using only the training data.\n",
    "Use this same process with different types of algorithms like Ridge, LASSO, Elastic-Net, Random Forests, and Boosted trees."
   ]
  }
 ],
 "metadata": {
  "kernelspec": {
   "display_name": "Python 3 (ipykernel)",
   "language": "python",
   "name": "python3"
  },
  "language_info": {
   "codemirror_mode": {
    "name": "ipython",
    "version": 3
   },
   "file_extension": ".py",
   "mimetype": "text/x-python",
   "name": "python",
   "nbconvert_exporter": "python",
   "pygments_lexer": "ipython3",
   "version": "3.10.8"
  }
 },
 "nbformat": 4,
 "nbformat_minor": 5
}
