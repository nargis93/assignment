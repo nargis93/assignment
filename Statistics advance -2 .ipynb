{
 "cells": [
  {
   "cell_type": "markdown",
   "id": "53bf518b-ba1e-48ea-ba2b-b581b273f8ad",
   "metadata": {},
   "source": [
    "Q1: What are the Probability Mass Function (PMF) and Probability Density Function (PDF)? Explain with\n",
    "an example.\n",
    "\n",
    "Ans - Probability mass function denotes the probability that a discrete random variable will take on a particular value. Probability density function gives the probability that a continuous random variable will lie between a certain specified interval. It is used for discrete random variables.\n",
    "The probability mass function example is given below :\n",
    "\n",
    "Question : Let X be a random variable, and P(X=x) is the PMF given by,\n",
    "\n",
    "X\t0\t1\t2\t3\t4\t5\t6\t7\n",
    "P(X=x)\t0\tk\t2k\t2k\t3k\tk2\t2k2\t7k2+k\n",
    "Determine the value of k\n",
    "Find the probability (i) P(X≤ 6), (ii) P(3<x≤ 6 )\n",
    "Solution :\n",
    "\n",
    "(1) We know that;\n",
    "∑P(xi)=1\n",
    "Therefore,\n",
    "0 + k + 2k + 2k + 3k + k2 + 2k2 + 7k2+ k = 1\n",
    "9k + 10k2 = 1\n",
    "10k2 + 9k – 1 = 0\n",
    "10k2 + 10k – k -1 = 0\n",
    "10k(k + 1) -1(k + 1) = 0\n",
    "(10k – 1) ( k + 1 ) = 0\n",
    "So, 10k – 1 = 0 and k + 1 = 0\n",
    "Therefore, k = 1/10 and k = -1\n",
    "k=-1 is not possible because the probability value ranges from 0 to 1.\n",
    "Hence, the value of k is 1/10.\n",
    "\n",
    "(2) (i) P(X ≤ 6) = 1 – P( x > 6)\n",
    "\n",
    "= 1 – ( 7k2+k )\n",
    "\n",
    "= 1 – (7(1/10)2 + ( 1/ 10) )\n",
    "\n",
    "= 1 – (7/100 + 1/10)\n",
    "\n",
    "= 1 – ( 17/100)\n",
    "\n",
    "= ( 100 – 17)/100\n",
    "\n",
    "= 83/100\n",
    "\n",
    "Therefore , P(X≤ 6) = 83/100\n",
    "\n",
    "(ii) P(3<x≤ 6 ) = P( x =4) + P ( x = 5 ) + P ( X = 6)\n",
    "\n",
    "= 3k + k2 + 2k2\n",
    "\n",
    "= (3/10) + (1/10)2 + 2 (1/10)2\n",
    "\n",
    "= 3/10 + 1/100 + 2/100\n",
    "\n",
    "= 3/10 + 3/100\n",
    "\n",
    "= ( 30+3)/100\n",
    "\n",
    "= 33/100\n",
    "\n",
    "P(3<x≤ 6 ) = 33/100.\n",
    "\n",
    "Probability Density Function Example\n",
    "the continuous uniform distribution on the interval [0, 1/2] \n",
    "has probability density f(x) = 2 for 0 ≤ x ≤ 1/2 and f(x) = 0 elsewhere."
   ]
  },
  {
   "cell_type": "markdown",
   "id": "60fd59c5-39d4-4a55-ad5c-0d6dd14af0c6",
   "metadata": {},
   "source": [
    "Q2: What is Cumulative Density Function (CDF)? Explain with an example. Why CDF is used?\n",
    "ANS = The cumulative distribution function (CDF) calculates the cumulative probability for a given x-value. Use the CDF to determine the likelihood that a random observation taken from the population will be less than or equal to a particular value.\n",
    "CDF of a random variable 'X' is defined as a function given by, FX(x) = P(X ≤ x)where the x ∈ R. This indicates that CDF is applicable for all the x ∈ R. It helps to calculate the probability of a random variable where the population is taken less than or equal to a particular value."
   ]
  },
  {
   "cell_type": "markdown",
   "id": "91c1b0a5-e504-4ccd-85e0-d1f607a29f20",
   "metadata": {},
   "source": [
    "Q3: What are some examples of situations where the normal distribution might be used as a model?\n",
    "Explain how the parameters of the normal distribution relate to the shape of the distribution.\n",
    "ANS = Height, birth weight, reading ability, job satisfaction, or SAT scores are just a few examples of such variables. Because normally distributed variables are so common, many statistical tests are designed for normally distributed populations.\n",
    "The two main parameters of a (normal) distribution are the mean and standard deviation. The parameters determine the shape and probabilities of the distribution. The shape of the distribution changes as the parameter values change"
   ]
  },
  {
   "cell_type": "markdown",
   "id": "80cfbba4-a401-4cb7-9b1e-8eebca9c0349",
   "metadata": {},
   "source": [
    "Q4: Explain the importance of Normal Distribution. Give a few real-life examples of Normal\n",
    "Distribution.\n",
    "ANS = One reason the normal distribution is important is that many psychological and educational variables are distributed approximately normally. Measures of reading ability, introversion, job satisfaction, and memory are among the many psychological variables approximately normally distributed.\n",
    "All kinds of variables in natural and social sciences are normally or approximately normally distributed. Height, birth weight, reading ability, job satisfaction, or SAT scores are just a few examples of such variables."
   ]
  },
  {
   "cell_type": "markdown",
   "id": "c4983ee8-cbf0-4c40-81ad-034af841b9b9",
   "metadata": {},
   "source": [
    "Q5: What is Bernaulli Distribution? Give an Example. What is the difference between Bernoulli\n",
    "Distribution and Binomial Distribution?\n",
    "ANS = The Bernoulli distribution represents the success or failure of a single Bernoulli trial. The Binomial Distribution represents the number of successes and failures in n independent Bernoulli trials for some given value of n.\n",
    "As an example, consider flipping a coin with a 25% probability of heads. A single toss of the coin has a Bernoulli distribution, with p = 0.25. If you toss the coin three times and record the number of heads, this is now a binomial distribution with p = 0.25 and n = 3."
   ]
  },
  {
   "cell_type": "markdown",
   "id": "bff82f52-f8a3-42e4-9816-75860972938b",
   "metadata": {},
   "source": [
    "Q6. Consider a dataset with a mean of 50 and a standard deviation of 10. If we assume that the dataset\n",
    "is normally distributed, what is the probability that a randomly selected observation will be greater\n",
    "than 60? Use the appropriate formula and show your calculations.\n",
    "\n",
    "ANS = \n",
    "Here we need to determine the value of Z= x−μ /σ\n",
    " μ = 50 , standard deviation σ =10   For x is greater than 60,\n",
    " lets take x = 62                Z = (62-50)/10\n",
    "                                   = 12/10\n",
    "                                  Z =1.2\n",
    "From the Normal Distribution table, P = 0.8849"
   ]
  },
  {
   "cell_type": "markdown",
   "id": "6b25b8a6-193c-432a-9f27-98435f26b788",
   "metadata": {},
   "source": [
    "Q7: Explain uniform Distribution with an example.\n",
    "ANS =\n",
    "In statistics, uniform distribution refers to a type of probability distribution in which all outcomes are equally likely. A deck of cards has within it uniform distributions because the likelihood of drawing a heart, a club, a diamond, or a spade is equally likely."
   ]
  },
  {
   "cell_type": "markdown",
   "id": "2dd5391c-a2d5-4dee-9feb-753ccbaa9b26",
   "metadata": {},
   "source": [
    "Q8: What is the z score? State the importance of the z score.\n",
    "ANS =\n",
    "Z-score is a statistical measurement that describes a value's relationship to the mean of a group of values. Z-score is measured in terms of standard deviations from the mean. If a Z-score is 0, it indicates that the data point's score is identical to the mean score.\n",
    "A z-score measures the distance between a data point and the mean using standard deviations. Z-scores can be positive or negative. The sign tells you whether the observation is above or below the mean."
   ]
  },
  {
   "cell_type": "markdown",
   "id": "5c950507-8432-42b0-8af2-32f60672f4b0",
   "metadata": {},
   "source": [
    "Q9: What is Central Limit Theorem? State the significance of the Central Limit Theorem.\n",
    "ANS -\n",
    "The central limit theorem says that the sampling distribution of the mean will always be normally distributed, as long as the sample size is large enough. Regardless of whether the population has a normal, Poisson, binomial, or any other distribution, the sampling distribution of the mean will be normal.\n",
    "Importance\n",
    "The central limit theorem is useful when analyzing large data sets because it allows one to assume that the sampling distribution of the mean will be normally-distributed in most cases. This allows for easier statistical analysis and inference."
   ]
  },
  {
   "cell_type": "markdown",
   "id": "3fd49f20-5b5d-4ce1-85ae-ac9ded4adf4a",
   "metadata": {},
   "source": [
    "Q10: State the assumptions of the Central Limit Theorem.\n",
    "ANS- \n",
    "1.The data must adhere to the randomization rule. It needs to be sampled at random.\n",
    "2.The samples should be unrelated to one another. One sample should not impact the others.\n",
    "3.When taking samples without replacement, the sample size should not exceed 10% of the population."
   ]
  }
 ],
 "metadata": {
  "kernelspec": {
   "display_name": "Python 3 (ipykernel)",
   "language": "python",
   "name": "python3"
  },
  "language_info": {
   "codemirror_mode": {
    "name": "ipython",
    "version": 3
   },
   "file_extension": ".py",
   "mimetype": "text/x-python",
   "name": "python",
   "nbconvert_exporter": "python",
   "pygments_lexer": "ipython3",
   "version": "3.10.8"
  }
 },
 "nbformat": 4,
 "nbformat_minor": 5
}
