{
 "cells": [
  {
   "cell_type": "code",
   "execution_count": null,
   "id": "fbc9c8a4-8b24-4369-ba4c-54733fa890c2",
   "metadata": {},
   "outputs": [],
   "source": [
    "Q 1 ANS =There are three main measures of central tendency: mode. median. mean."
   ]
  },
  {
   "cell_type": "code",
   "execution_count": null,
   "id": "a7ad0377-8670-4069-98c1-b4fd1fbae0a5",
   "metadata": {},
   "outputs": [],
   "source": [
    "Q 2 ANS The difference between mean, median and mode are: Mean is the average value of the given observations.\n",
    "Median is the middle value of the given observations. Mode is the most repeated value in the given observation.\n",
    "The central tendency can be found using the formulas of mean, median or mode."
   ]
  },
  {
   "cell_type": "code",
   "execution_count": null,
   "id": "a0be1fe3-dc4d-458d-8128-d40f308448d6",
   "metadata": {},
   "outputs": [],
   "source": [
    "Q 3 ANS "
   ]
  },
  {
   "cell_type": "code",
   "execution_count": 2,
   "id": "50921e6a-b3dd-4db9-ba08-07fb1c074618",
   "metadata": {},
   "outputs": [
    {
     "data": {
      "text/plain": [
       "177.01875"
      ]
     },
     "execution_count": 2,
     "metadata": {},
     "output_type": "execute_result"
    }
   ],
   "source": [
    "import numpy as np\n",
    "x=[178,177,176,177,178.2,178,175,179,180,175,178.9,176.2,177,172.5,178,176.5]\n",
    "np.mean(x)"
   ]
  },
  {
   "cell_type": "code",
   "execution_count": 3,
   "id": "c81f3cf7-5217-441e-b94e-8c6c81a26de3",
   "metadata": {},
   "outputs": [
    {
     "data": {
      "text/plain": [
       "177.0"
      ]
     },
     "execution_count": 3,
     "metadata": {},
     "output_type": "execute_result"
    }
   ],
   "source": [
    "np.median(x)"
   ]
  },
  {
   "cell_type": "code",
   "execution_count": 5,
   "id": "37fdf6fa-a7bb-4335-a5ab-da4a1b6c78d2",
   "metadata": {},
   "outputs": [
    {
     "name": "stderr",
     "output_type": "stream",
     "text": [
      "/tmp/ipykernel_745/3269743869.py:2: FutureWarning: Unlike other reduction functions (e.g. `skew`, `kurtosis`), the default behavior of `mode` typically preserves the axis it acts along. In SciPy 1.11.0, this behavior will change: the default value of `keepdims` will become False, the `axis` over which the statistic is taken will be eliminated, and the value None will no longer be accepted. Set `keepdims` to True or False to avoid this warning.\n",
      "  stats.mode(x)\n"
     ]
    },
    {
     "data": {
      "text/plain": [
       "ModeResult(mode=array([177.]), count=array([3]))"
      ]
     },
     "execution_count": 5,
     "metadata": {},
     "output_type": "execute_result"
    }
   ],
   "source": [
    "from scipy import stats\n",
    "stats.mode(x)"
   ]
  },
  {
   "cell_type": "code",
   "execution_count": null,
   "id": "451ebcb9-91e6-4366-9825-bedf9931e0b2",
   "metadata": {},
   "outputs": [],
   "source": [
    " Q4 ANS ="
   ]
  },
  {
   "cell_type": "code",
   "execution_count": 6,
   "id": "b6656c39-9c08-4d46-b4e7-dd4d87ce7691",
   "metadata": {},
   "outputs": [
    {
     "data": {
      "text/plain": [
       "1.7885814036548633"
      ]
     },
     "execution_count": 6,
     "metadata": {},
     "output_type": "execute_result"
    }
   ],
   "source": [
    "import numpy as np\n",
    "A =[178,177,176,177,178.2,178,175,179,180,175,178.9,176.2,177,172.5,178,176.5]\n",
    "np.std(A)"
   ]
  },
  {
   "cell_type": "code",
   "execution_count": null,
   "id": "bb24a1f6-ab8c-4e30-bce5-ffdd89dea28b",
   "metadata": {},
   "outputs": [],
   "source": [
    "Q 5 ANS"
   ]
  },
  {
   "cell_type": "code",
   "execution_count": null,
   "id": "dbd1aab1-06dc-49b0-ad6e-ccfb4f01a1d2",
   "metadata": {},
   "outputs": [],
   "source": [
    "The range is the easiest dispersion of data or measure of variability. The range can measure by subtracting the lowest value\n",
    "from the massive Number. The wide range indicates high variability, and the small range specifies low variability in the \n",
    "distribution.To calculate a range, prepare all the values in ascending order, then subtract the lowest value from the highest\n",
    "value.\n",
    "Range = Highest_value  – Lowest_value\n",
    "Variance\n",
    "Variance is a simple measure of dispersion. Variance measures how far \n",
    "each number in the dataset from the mean. To compute variance first, calculate the mean and squared deviations from a mean.\n",
    "Standard Deviation\n",
    "Standard deviation is a squared root of the variance to get original values. Low standard deviation indicates data points\n",
    "close to mean.\n"
   ]
  },
  {
   "cell_type": "code",
   "execution_count": null,
   "id": "a640dda4-30be-44d2-b738-a1b7cb63efdc",
   "metadata": {},
   "outputs": [],
   "source": [
    " Q 6 ANS =A Venn diagram is an illustration that uses circles to show the relationships among things or finite groups\n",
    "    of things.\n",
    "    "
   ]
  },
  {
   "cell_type": "code",
   "execution_count": null,
   "id": "6c1c0986-30f8-4f0a-a3fc-b6df3e4a863b",
   "metadata": {},
   "outputs": [],
   "source": [
    "Q 7 ANS \n",
    "A = (2,3,4,5,6,7)\n",
    "B = (0,2,6,8,10)\n",
    "(i) A intersection B = (2,6)\n",
    "(ii) A ⋃ B = (0,2,3,4,5,6,7,8,10)"
   ]
  },
  {
   "cell_type": "code",
   "execution_count": null,
   "id": "d0d77e54-0bc7-4643-986e-cf4c085f492f",
   "metadata": {},
   "outputs": [],
   "source": [
    "Q 8 ANS "
   ]
  },
  {
   "cell_type": "code",
   "execution_count": null,
   "id": "5dc81400-d040-45c6-bcd1-6823d7c8e3a0",
   "metadata": {},
   "outputs": [],
   "source": [
    "Skewness is a measure of the asymmetry of a distribution. A distribution is asymmetrical when its left and right side are\n",
    "not mirror images. You might want to calculate the skewness of a distribution to: Describe the distribution of a variable \n",
    "alongside other descriptive statistics."
   ]
  },
  {
   "cell_type": "code",
   "execution_count": null,
   "id": "d01bdf5d-0300-40b6-b600-1f5f2db5ad95",
   "metadata": {},
   "outputs": [],
   "source": [
    " Q 9 ANS = When the distribution is skewed to the right, the mean is often greater than the median. In symmetric distributions,\n",
    "    we expect the mean and median to be approximately equal in value.This is an important connection between the shape of \n",
    "    the distribution and the relationship of the mean and median."
   ]
  },
  {
   "cell_type": "code",
   "execution_count": null,
   "id": "52f13fed-1adf-48a2-a90a-05a5d1d1e72f",
   "metadata": {},
   "outputs": [],
   "source": [
    "Q 10 ANS = Covariance is an indicator of the extent to which 2 random variables are dependent on each other. A higher number\n",
    "denotes higher dependency. Correlation is a statistical measure that indicates how strongly two variables are related. \n",
    "The value of covariance lies in the range of -∞ and +∞."
   ]
  },
  {
   "cell_type": "code",
   "execution_count": null,
   "id": "d945c98f-43a2-4b46-8f96-6ad89f311343",
   "metadata": {},
   "outputs": [],
   "source": [
    "Q 11 ANS ="
   ]
  },
  {
   "cell_type": "code",
   "execution_count": 12,
   "id": "4484e985-069a-4c21-97d0-4ae8de501cc6",
   "metadata": {},
   "outputs": [
    {
     "data": {
      "text/html": [
       "<img src=\"sample-mean-formula-1624554735.png\" width=\"500\" height=\"800\"/>"
      ],
      "text/plain": [
       "<IPython.core.display.Image object>"
      ]
     },
     "execution_count": 12,
     "metadata": {},
     "output_type": "execute_result"
    }
   ],
   "source": [
    "\n",
    "from IPython.display import Image\n",
    "  \n",
    "# get the image\n",
    "Image(url=\"sample-mean-formula-1624554735.png\", width=500, height=800)"
   ]
  },
  {
   "cell_type": "code",
   "execution_count": 18,
   "id": "a9bf6a1e-3da7-4b5a-b208-07eedd65a726",
   "metadata": {},
   "outputs": [
    {
     "data": {
      "text/plain": [
       "49.4"
      ]
     },
     "execution_count": 18,
     "metadata": {},
     "output_type": "execute_result"
    }
   ],
   "source": [
    "import numpy as np\n",
    "ages_lst =[23,43,23,56,74,32,68,98,45,32]\n",
    "np.mean(ages_lst)"
   ]
  },
  {
   "cell_type": "code",
   "execution_count": null,
   "id": "260371d1-11bd-44af-8dce-443faf5bda31",
   "metadata": {},
   "outputs": [],
   "source": [
    " Q12 ANS "
   ]
  },
  {
   "cell_type": "code",
   "execution_count": null,
   "id": "72e67e53-f7e6-4e4c-8559-ae89c721867d",
   "metadata": {},
   "outputs": [],
   "source": [
    "For normally distributed data, all three measures of central tendency will give you the same answer so they can all be used.\n",
    "In skewed distributions, the median is the best measure because it is unaffected by extreme outliers\n",
    "or non-symmetric distributions of scores. The mean and mode can vary in skewed distributions."
   ]
  },
  {
   "cell_type": "code",
   "execution_count": null,
   "id": "31949599-d48c-4b48-ba8a-eadddb2b172e",
   "metadata": {},
   "outputs": [],
   "source": [
    "Q 13 ANS \n",
    "Both covariance and correlation measure the relationship and the dependency between two variables. \n",
    "Covariance indicates the direction of the linear relationship between variables. \n",
    "Correlation measures both the strength and direction of the linear relationship between two variables.\n",
    "Correlation values are standardized."
   ]
  },
  {
   "cell_type": "code",
   "execution_count": null,
   "id": "6873a155-f75e-4b9c-a08b-b93f647d1063",
   "metadata": {},
   "outputs": [],
   "source": [
    "Q 14 ANS Outliers Measures of central tendency and dispersion can give misleading impressions of a data set if the set \n",
    "contains one or more outliers. An outlier is a value that is much greater\n",
    "than or much less than most of the other values in a data set.\n",
    "Mean, median and mode are measures of central tendency. Mean is the only measure of central tendency that is always \n",
    "affected by an outlier.\n",
    " Consider the data set: 11, 15, 10,37, 17, 14,9, 15.  here in this example 37 is outlier as it is much larger than\n",
    "the other elments of set."
   ]
  }
 ],
 "metadata": {
  "kernelspec": {
   "display_name": "Python 3 (ipykernel)",
   "language": "python",
   "name": "python3"
  },
  "language_info": {
   "codemirror_mode": {
    "name": "ipython",
    "version": 3
   },
   "file_extension": ".py",
   "mimetype": "text/x-python",
   "name": "python",
   "nbconvert_exporter": "python",
   "pygments_lexer": "ipython3",
   "version": "3.10.8"
  }
 },
 "nbformat": 4,
 "nbformat_minor": 5
}
