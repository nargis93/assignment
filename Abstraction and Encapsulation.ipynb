{
 "cells": [
  {
   "cell_type": "code",
   "execution_count": null,
   "id": "7108c0e6-3779-4806-8ca2-fbb61e7a67d8",
   "metadata": {},
   "outputs": [],
   "source": [
    "\"Abstraction and Encapsulation\"\n",
    "Ans 1 = In simple terms, abstraction “displays” only the relevant attributes of objects and “hides” the unnecessary \n",
    "       details. For example,when we are driving a car, we are only concerned about driving the car like start/stop \n",
    "         the car,accelerate/ break, etc.\n",
    "        \n",
    "Ans 2 = Abstraction is a method of removing the unnecessary details in the code and focusing on the relevant parts.\n",
    "       Abstraction is a way of representing some specific data. Encapsulation is a way of hiding the complexity of \n",
    "       something  and exposing only the parts you wish to expose. For example,if you have a class that has one or\n",
    "        more private fields that you use to store the data, then you are in encapsulation.\n",
    "Ans 3 = The 'abc' module in Python library provides the infrastructure for defining custom abstract base classes. \n",
    "       'abc' works by marking methods of the base class as abstract. This is done by @absttractmethod decorator.\n",
    "Ans 4 = Abstraction using classes: An abstraction can be achieved using classes. A class is used to group all the data\n",
    "        members and member functions into a single unit by using the access specifiers. A class has the responsibility\n",
    "        to determine which data member is to be visible outside and which is not.    \n",
    "        \n",
    "Ans 5 = Abstract classes are not complete, as they may have some methods that are not defined.\n",
    "        So we cannot create an instance or object of an abstract class in Python.Abstract classes are not complete, as\n",
    "       they may have some methods that are not defined. So we cannot create an instance or object of an abstract class \n",
    "        in Python.        "
   ]
  }
 ],
 "metadata": {
  "kernelspec": {
   "display_name": "Python 3 (ipykernel)",
   "language": "python",
   "name": "python3"
  },
  "language_info": {
   "codemirror_mode": {
    "name": "ipython",
    "version": 3
   },
   "file_extension": ".py",
   "mimetype": "text/x-python",
   "name": "python",
   "nbconvert_exporter": "python",
   "pygments_lexer": "ipython3",
   "version": "3.10.8"
  }
 },
 "nbformat": 4,
 "nbformat_minor": 5
}
