{
 "cells": [
  {
   "cell_type": "code",
   "execution_count": null,
   "id": "08c46a36-4f2a-4f2c-8f8d-90eef666fd50",
   "metadata": {},
   "outputs": [],
   "source": [
    "\"29 JAN PYTHON ASSIGNMENT\"\n",
    "Ans 1 = Guido van Rossum developed python programming language.\n",
    "Ans 2 = Python is an interpreted, interactive, object-oriented programming language. It incorporates modules, \n",
    "        exceptions, dynamic typing, very high level dynamic data types, and classes. It supports\n",
    "        multiple programming paradigms beyond object-oriented programming, such as procedural and functional programming.\n",
    "Ans 3 = Yes, Python is a case−sensitive programming language. This means that it considers uppercase and \n",
    "         lowercase letters differently.\n",
    "Ans 4 = pyc: This is the file extension for compiled Python code files. When a . py file is executed, the Python \n",
    "        interpretercompiles the code to bytecode and saves it in a . pyc file to improve performance on subsequent \n",
    "         executions.\n",
    "Ans 5 = Python is an interpreted language, which means the source code of a Python program is converted into bytecode \n",
    "        that is then executed by the Python virtual machine. Python is different from major compiled \n",
    "        languages, such as C and C + +, as Python code is not required to be built and linked like code for these \n",
    "          languages.\n",
    "Ans 6 = Structure of a program. A Python program is constructed from code blocks. A block is a piece of Python \n",
    "    program text that is executed as a unit. The following are blocks: a module, a function body, and a class definition. \n",
    "Ans 7 = Comments in Python are identified with a hash symbol, #, and extend to the end of the line.\n",
    "Ans 8 =  The function sys. version can help us to find the version of python that we are currently working on.\n",
    "Ans 9 = Python supports the creation of anonymous functions (i.e. functions that are not bound to a name) at\n",
    "         runtime, using a construct called lambda.\n",
    "Ans 10 = PIP is a package manager for Python packages, or modules if you like.\n",
    "Note: If you have Python version 3.4 or later, PIP is included by default.  \n",
    "Ans 11 = str()\tReturns a string object\n",
    "         sum()\tSums the items of an iterator\n",
    "         super()\tReturns an object that represents the parent class\n",
    "         tuple()\tReturns a tuple\n",
    "        len() to get the length of the value\n",
    "Ans 12 = An identifier can have a maximum length of 79 characters in Python. \n",
    "Ans 13 = Presence of third-party modules.\n",
    "         Extensive support libraries(NumPy for numerical calculations, Pandas for data analytics, etc.)\n",
    "         Open source and large active community base.\n",
    "         Versatile, Easy to read, learn and write.\n",
    "         User-friendly data structures.\n",
    "         High-level language.\n",
    "Ans 14 = Memory management in Python involves the management of a private heap. A private heap is a portion of memory \n",
    "that is exclusive to the Python process. All Python objects and data structures are stored in the private heap. \n",
    "The operating system cannot allocate this piece of memory to another process. \n",
    "Ans 15 = Right-clicking This PC and going to Properties.\n",
    "\n",
    "         Clicking on the Advanced system settings in the menu on the left.\n",
    "\n",
    "         Clicking on the Environment Variables button o​n the bottom right.\n",
    "\n",
    "          In the System variables section, selecting the Path variable and clicking on Edit. The next screen will \n",
    "          show all the directories that are currently a part of the PATH variable.\n",
    "\n",
    "          Clicking on New and entering Python’s install directory.\n",
    "Ans 16  = Indentation is important to Python,because it's how you determine scope.\n",
    "           Scope is how Python knows what code belongs to what part of the program.            "
   ]
  }
 ],
 "metadata": {
  "kernelspec": {
   "display_name": "Python 3 (ipykernel)",
   "language": "python",
   "name": "python3"
  },
  "language_info": {
   "codemirror_mode": {
    "name": "ipython",
    "version": 3
   },
   "file_extension": ".py",
   "mimetype": "text/x-python",
   "name": "python",
   "nbconvert_exporter": "python",
   "pygments_lexer": "ipython3",
   "version": "3.10.8"
  }
 },
 "nbformat": 4,
 "nbformat_minor": 5
}
