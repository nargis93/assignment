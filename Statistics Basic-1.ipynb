{
 "cells": [
  {
   "cell_type": "code",
   "execution_count": null,
   "id": "6b503d5c-f858-454e-8c5c-2de3596eb72a",
   "metadata": {},
   "outputs": [],
   "source": [
    " Q 1 ANS =\n",
    "Statistics is the study of the collection, analysis, interpretation, presentation, and organization of data. In other words,\n",
    "itis a mathematical discipline to collect, summarize data. Also, we can say that statistics is a branch of applied mathematics.\n"
   ]
  },
  {
   "cell_type": "code",
   "execution_count": null,
   "id": "dac2b0db-a950-4830-b49b-dd1974f2344a",
   "metadata": {},
   "outputs": [],
   "source": [
    "Q 2 ANS \n"
   ]
  },
  {
   "cell_type": "code",
   "execution_count": null,
   "id": "b28e6936-05c5-4fdb-aaee-5b31ce6dcd83",
   "metadata": {},
   "outputs": [],
   "source": [
    "Statistics have majorly categorised into two types:\n",
    "\n",
    "1.Descriptive statistics\n",
    "2.Inferential statistics\n",
    "Descriptive statistics is a way to organise, represent and describe a collection of data using\n",
    "tables, graphs, and summary measures. For example, the collection of people in a city using the internet or using Television.\n",
    "Inferential Statistics is a method that allows us to use information collected from a sample to make decisions, predictions \n",
    "or inferences from a population. It grants us permission to give\n",
    "statements that goes beyond the available data or information. For example, deriving estimates from hypothetical research.\n"
   ]
  },
  {
   "cell_type": "code",
   "execution_count": null,
   "id": "b8609078-66bb-446d-82f2-7ab31ad7118e",
   "metadata": {},
   "outputs": [],
   "source": [
    "Q 3 ANS "
   ]
  },
  {
   "cell_type": "code",
   "execution_count": null,
   "id": "7bd05c0d-d7b6-45c8-b92d-488d1dde94f0",
   "metadata": {},
   "outputs": [],
   "source": [
    "In statistics, there are four main types of data: nominal, ordinal, interval, and ratio.\n",
    "Nominal Data:\n",
    "Nominal data is a type of data that consists of categories or names that cannot be ordered or ranked. Nominal data is often \n",
    "used to categorize observations into groups, and the groups are not comparable. In other words, nominal data has no inherent \n",
    "order or ranking. Examples of nominal data include gender (male/female), race (White/Black/Asian), religion \n",
    "(Christianity/Islam/Judaism), and blood type (A/B/AB/O).\n",
    "Ordinal Data:\n",
    "Ordinal data is a type of data that consists of categories that can be ordered or ranked. However, the distance between\n",
    "categories is not necessarily equal. Ordinal data is often used to measure subjective attributes or opinions, where there \n",
    "is a natural order to the responses. Examples of ordinal data include education level (elementary/middle/high school/college),\n",
    "job position (manager/supervisor/employee), and Likert scales (strongly agree/agree/disagree/strongly disagree).\n",
    "Interval Data:\n",
    "Interval data is a type of data that consists of numerical values where the distance between each value is equal. However, \n",
    "there is no true zero point. Interval data is often used to measure attributes such as temperature, dates, and time. Examples\n",
    "of interval data include temperature (Celsius/Fahrenheit), dates (days/months/years), and time (hours/minutes/seconds).\n",
    "Ratio Data:\n",
    "Ratio data is a type of data that has a true zero point and an equal distance between each value. Ratio data is considered\n",
    "the most informative type of data because it can be used to make meaningful comparisons and calculations. In addition, ratio\n",
    "data can be used to perform all types of statistical analyses.\n",
    "Examples of ratio data include height (inches/centimeters), weight (pounds/kilograms), income (dollars), and distance\n",
    "(miles/kilometers). For instance, if someone’s height is 60 inches, it means that they are 5 feet tall, and if their height \n",
    "is 72 inches,\n",
    "it means that they are 6 feet tall. Moreover, if someone’s weight is 150 pounds, it means that they weigh 68 kilograms."
   ]
  },
  {
   "cell_type": "code",
   "execution_count": null,
   "id": "0cfdb69c-1985-410d-9289-e2eb8d010ad7",
   "metadata": {},
   "outputs": [],
   "source": [
    " Q4 ANS =\n"
   ]
  },
  {
   "cell_type": "code",
   "execution_count": null,
   "id": "a9ea3752-7a79-4ea1-9b48-465ed43362af",
   "metadata": {},
   "outputs": [],
   "source": [
    "Quantitative = (iii) Height data of a class: [178.9, 179, 179.5, 176, 177.2, 178.3, 175.8,...]\n",
    "                (iv) Number of mangoes exported by a farm: [500, 600, 478, 672, ...]\n",
    "Qualitative = (i) Grading in exam: A+, A, B+, B, C+, C, D, E\n",
    "            (ii) Colour of mangoes: yellow, green, orange, red"
   ]
  },
  {
   "cell_type": "code",
   "execution_count": null,
   "id": "58bb6a94-5128-4e02-8499-55a3c0f56b59",
   "metadata": {},
   "outputs": [],
   "source": [
    "Q 5 ANS ="
   ]
  },
  {
   "cell_type": "code",
   "execution_count": null,
   "id": "c564dda0-73e8-450e-8460-f78bad94432f",
   "metadata": {},
   "outputs": [],
   "source": [
    "Levels of measurement, also called scales of measurement, tell you how precisely variables are recorded. In scientific\n",
    "research, a variable is anything that can take on different values across your data set (e.g., height or test scores).\n",
    "\n",
    "There are 4 levels of measurement:\n",
    "\n",
    "Nominal: the data can only be categorized\n",
    "Ordinal: the data can be categorized and ranked\n",
    "Interval: the data can be categorized, ranked, and evenly spaced\n",
    "Ratio: the data can be categorized, ranked, evenly spaced, and has a natural zero.\n",
    "\n",
    "Nominal level\tExamples of nominal scales\n",
    "You can categorize your data by labelling them in mutually exclusive groups, but there is no order between the categories.\t\n",
    "City of birth\n",
    "Gender\n",
    "Ethnicity\n",
    "Car brands\n",
    "Marital status\n",
    "Ordinal level\t\n",
    "You can categorize and rank your data in an order, but you cannot say anything about the intervals between the rankings.\n",
    "Examples of ordinal scales Top 5 Olympic medallists\n",
    "Language ability (e.g., beginner, intermediate, fluent)\n",
    "\n",
    "Likert-type questions  (e.g., very dissatisfied to very satisfied)\n",
    "Interval level\n",
    "You can categorize, rank, and infer equal intervals between neighboring data points, but there is no true zero point.\n",
    "Examples of interval scales\n",
    "Test scores (e.g., IQ or exams)\n",
    "Personality inventories\n",
    "Temperature in Fahrenheit or Celsius\n",
    "\n",
    "Ratio level\t\n",
    "You can categorize, rank, and infer equal intervals between neighboring data points, and there is a true zero point.\n",
    "A true zero means there is an absence of the variable of interest. In ratio scales, zero does mean an absolute lack of the\n",
    "variable.\n",
    "Examples of ratio scales\n",
    "For example, in the Kelvin temperature scale, there are no negative degrees of temperature – zero means an absolute lack \n",
    "of thermal energy.\n"
   ]
  },
  {
   "cell_type": "code",
   "execution_count": null,
   "id": "849ea2c2-913e-419a-9b26-f6fade8f5780",
   "metadata": {},
   "outputs": [],
   "source": [
    "Q 6 ANS "
   ]
  },
  {
   "cell_type": "code",
   "execution_count": null,
   "id": "836f9474-666f-42ae-bf3d-d03f44b63a3d",
   "metadata": {},
   "outputs": [],
   "source": [
    "It is important to understand the level of measurement of variables in research, because the level of measurement determines\n",
    "the typeof statistical analysis that can be conducted, and, therefore, the type of conclusions that can be drawn from the \n",
    "research.\n",
    "So for researching ans analyzing it is importanat the measurement of data with precise level.\n",
    "The classic example of the interval scale is temperature measured on the Fahrenheit or Celsius scales. Let's suppose today's\n",
    "high temperature is 60º F and thirty days ago the \n",
    "high temperature was only 30º F. We can say that the difference between the high temperatures on these two days is 30 degrees.\n"
   ]
  },
  {
   "cell_type": "code",
   "execution_count": null,
   "id": "ee168d12-7515-4f10-aa73-a7a534da369b",
   "metadata": {},
   "outputs": [],
   "source": [
    " Q7 ANS "
   ]
  },
  {
   "cell_type": "code",
   "execution_count": null,
   "id": "67f6bfae-9cc2-4104-a6e3-563114d5192e",
   "metadata": {},
   "outputs": [],
   "source": [
    "Nominal data is a group of non-parametric variables, whereas Ordinal data is a group of non-parametric ordered variables. \n",
    "Ordinal data is analyzed by mode, median, quartiles, \n",
    "and percentile, whereas nominal data is analyzed by grouping variables into categories and calculating the distribution mode.\n"
   ]
  },
  {
   "cell_type": "code",
   "execution_count": null,
   "id": "9fdeaf42-cc79-4b80-87d8-8a3e23d2dc02",
   "metadata": {},
   "outputs": [],
   "source": [
    "Q 8 ANS "
   ]
  },
  {
   "cell_type": "code",
   "execution_count": null,
   "id": "2a49238b-6c9f-4ac5-97c2-7dd3bbdbd302",
   "metadata": {},
   "outputs": [],
   "source": [
    "Histogram. If the groups depicted in a bar chart are actually continuous numeric ranges, we can push the bars together to \n",
    "generate a histogram. Bar lengths in histograms\n",
    "typically correspond to counts of data points, and their patterns demonstrate the distribution of variables in your data."
   ]
  },
  {
   "cell_type": "code",
   "execution_count": null,
   "id": "a3b655e1-7bc4-4895-9cc8-1e9ada7f4543",
   "metadata": {},
   "outputs": [],
   "source": [
    "Q 9 ANS "
   ]
  },
  {
   "cell_type": "code",
   "execution_count": null,
   "id": "52c5b61e-3799-4c4c-9d89-2d0c3acec753",
   "metadata": {},
   "outputs": [],
   "source": [
    "Descriptive statistics:\n",
    "\n",
    "Describe the features of populations and/or samples\n",
    "Organize and present data in a purely factual way\n",
    "Present final results visually, using tables, charts, or graphs\n",
    "Draw conclusions based on known data\n",
    "Use measures like central tendency, distribution, and variance\n",
    "\n",
    "Inferential statistics:\n",
    "\n",
    "Use samples to make generalizations about larger populations\n",
    "Help us to make estimates and predict future outcomes\n",
    "Present final results in the form of probabilities\n",
    "Draw conclusions that go beyond the available data\n",
    "Use techniques like hypothesis testing, confidence intervals, and regression and correlation analysis\n"
   ]
  },
  {
   "cell_type": "code",
   "execution_count": null,
   "id": "ecde2e21-dbb3-443a-9e4c-5aa5186be0bf",
   "metadata": {},
   "outputs": [],
   "source": [
    " Q10 ANS "
   ]
  },
  {
   "cell_type": "code",
   "execution_count": null,
   "id": "91d930a3-5ece-4142-a11d-575de010149d",
   "metadata": {},
   "outputs": [],
   "source": [
    "The central tendency measure is defined as the number used to represent the center or middle of a set of data values. The \n",
    "three commonly used measures of central tendency are the mean, median,and mode. A statistic that tells us how the data values\n",
    "are dispersed or spread out is called the measure of dispersion.\n"
   ]
  }
 ],
 "metadata": {
  "kernelspec": {
   "display_name": "Python 3 (ipykernel)",
   "language": "python",
   "name": "python3"
  },
  "language_info": {
   "codemirror_mode": {
    "name": "ipython",
    "version": 3
   },
   "file_extension": ".py",
   "mimetype": "text/x-python",
   "name": "python",
   "nbconvert_exporter": "python",
   "pygments_lexer": "ipython3",
   "version": "3.10.8"
  }
 },
 "nbformat": 4,
 "nbformat_minor": 5
}
