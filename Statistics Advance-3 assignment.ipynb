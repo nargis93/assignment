{
 "cells": [
  {
   "cell_type": "markdown",
   "id": "a878cc22-69e2-4331-9cee-b6f66a275f02",
   "metadata": {},
   "source": [
    "Q1: What is Estimation Statistics? Explain point estimate and interval estimate.\n",
    "ANS -\n",
    "Estimation is the process by which the numerical value of unknown population values are inferred from incomplete data, such as a sample. If a single figure is calculated for each unknown parameter, the process is called point estimation.\n",
    "interval estimation, in statistics, the evaluation of a parameter—for example, the mean (average)—of a population by computing an interval, or range of values, within which the parameter is most likely to be located."
   ]
  },
  {
   "cell_type": "code",
   "execution_count": null,
   "id": "4c4126d8-331f-419c-a0aa-a919621885ca",
   "metadata": {},
   "outputs": [],
   "source": [
    "Q2. Write a Python function to estimate the population mean using a sample mean and standard\n",
    "deviation.\n",
    "ANS - \n"
   ]
  },
  {
   "cell_type": "code",
   "execution_count": 4,
   "id": "594b529a-8905-49ab-9806-5cfae2b09931",
   "metadata": {},
   "outputs": [
    {
     "name": "stdout",
     "output_type": "stream",
     "text": [
      "Population standard deviation of the dataset is 2.8333333333333335\n",
      "Population standard deviation of the dataset is 1.3437096247164249\n"
     ]
    }
   ],
   "source": [
    "import numpy as np\n",
    "\n",
    "#declare the dataset list\n",
    "dataset = np.array([2, 3, 4, 1, 2, 5])\n",
    "\n",
    "#calculating mean of the dataset\n",
    "mean = np.mean(dataset)\n",
    "#calculating standard deviation of the dataset\n",
    "sd = np.std(dataset)\n",
    "\n",
    "#display output\n",
    "print(\"Population standard deviation of the dataset is\", mean)\n",
    "print(\"Population standard deviation of the dataset is\", sd)"
   ]
  },
  {
   "cell_type": "markdown",
   "id": "fe576f3f-c158-426c-b35e-f97c40ed5d37",
   "metadata": {},
   "source": [
    "Q3: What is Hypothesis testing? Why is it used? State the importance of Hypothesis testing.\n",
    "ANS - \n",
    " Hypothesis testing is used to assess the plausibility of a hypothesis by using sample data. The test provides evidence concerning the plausibility of the hypothesis, given the data. Statistical analysts test a hypothesis by measuring and examining a random sample of the population being analyzed.\n",
    " Hypothesis testing is a systematic procedure for deciding whether the results of a research study support a particular theory which applies to a population. Hypothesis testing uses sample data to evaluate a hypothesis about a population."
   ]
  },
  {
   "cell_type": "markdown",
   "id": "62ee1a37-7646-4638-a81c-49db034eacea",
   "metadata": {},
   "source": [
    "Q4. Create a hypothesis that states whether the average weight of male college students is greater than\n",
    "the average weight of female college students.\n",
    "ANS - \n",
    "Suppose we wanted to test whether verage weight of male college students is greater than\n",
    "the average weight of female college students. Our underlying theory is that male college students will weight higher than weight of female college students , which\n",
    "would give us the following null (denoted H0) and alternative (denoted H1) hypotheses:\n",
    "H0 : µ ≤ average weight of male college students \n",
    "H1 : µ > average weight of male college students \n",
    "where µ is the average weight of female college students\n",
    "This is an example of what is called\n",
    "a one-tailed hypothesis"
   ]
  },
  {
   "cell_type": "markdown",
   "id": "102154dd-329a-4127-9bb8-232ad9c94cd6",
   "metadata": {},
   "source": [
    "Q5. Write a Python script to conduct a hypothesis test on the difference between two population means,\n",
    "given a sample from each population.\n",
    "ANS -"
   ]
  },
  {
   "cell_type": "code",
   "execution_count": 5,
   "id": "a4004289-29be-4609-8f27-5fa968ca86a7",
   "metadata": {},
   "outputs": [
    {
     "name": "stdout",
     "output_type": "stream",
     "text": [
      "7.727500000000001 12.260000000000002\n"
     ]
    }
   ],
   "source": [
    "# Python program to display variance of data groups\n",
    " \n",
    "# Import library\n",
    "import scipy.stats as stats\n",
    " \n",
    "# Creating data groups\n",
    "data_group1 = np.array([14, 15, 15, 16, 13, 8, 14,\n",
    "                        17, 16, 14, 19, 20, 21, 15,\n",
    "                        15, 16, 16, 13, 14, 12])\n",
    "data_group2 = np.array([15, 17, 14, 17, 14, 8, 12,\n",
    "                        19, 19, 14, 17, 22, 24, 16,\n",
    "                        13, 16, 13, 18, 15, 13])\n",
    " \n",
    "# Print the variance of both data groups\n",
    "print(np.var(data_group1), np.var(data_group2))"
   ]
  },
  {
   "cell_type": "markdown",
   "id": "7826fb67-d968-4549-a2e9-1e0c447af3bc",
   "metadata": {},
   "source": [
    "Q6: What is a null and alternative hypothesis? Give some examples.\n",
    "ANS -\n",
    "A null hypothesis is a statement in which there is no relation between the two variables.\n",
    "An alternative hypothesis is a statement in which there is some statistical relationship between the two variables.\n",
    "EXAMPLE OF NULL HYPOTHESIS\n",
    "Question\t\n",
    "Does taking aspirin every day reduce the chance of having a heart attack?\n",
    "Null Hypothesis\n",
    "Taking aspirin daily does not affect heart attack risk.\n",
    "EXAMPLE OF alternative HYPOTHESIS\n",
    "Research question\t\n",
    "Does daily meditation decrease the incidence of depression?\n",
    "Alternative hypothesis (Ha)\n",
    "Daily meditation decreases the incidence of depression."
   ]
  },
  {
   "cell_type": "markdown",
   "id": "fa95f3c5-23d2-49c4-88f3-31df57d8950d",
   "metadata": {},
   "source": [
    "Q7: Write down the steps involved in hypothesis testing.\n",
    "ANS - \n",
    "Step 1: State the Null Hypothesis\n",
    "Step 2: State the Alternative Hypothesis\n",
    "Step 3: Set α\n",
    "Step 4: Collect Data\n",
    "Step 5: Calculate a test statistic\n",
    "Step 6: Construct Acceptance / Rejection regions\n",
    "Step 7: Based on Steps 5 and 6, draw a conclusion about Ho"
   ]
  },
  {
   "cell_type": "markdown",
   "id": "2c5f92ec-4763-464a-9327-88f41d49b39d",
   "metadata": {},
   "source": [
    "Q8. Define p-value and explain its significance in hypothesis testing.\n",
    "ANS -\n",
    "A p-value measures the probability of obtaining the observed results, assuming that the null hypothesis is true. The lower the p-value, the greater the statistical significance of the observed difference. A p-value of 0.05 or lower is generally considered statistically significant."
   ]
  },
  {
   "cell_type": "markdown",
   "id": "e7affbe5-07b0-4473-9d52-0b519414e7d5",
   "metadata": {},
   "source": [
    "Q9. Generate a Student's t-distribution plot using Python's matplotlib library, with the degrees of freedom\n",
    "parameter set to 10.\n"
   ]
  },
  {
   "cell_type": "code",
   "execution_count": 10,
   "id": "624eba22-132c-48b9-954c-f3bebc48b329",
   "metadata": {},
   "outputs": [
    {
     "name": "stdout",
     "output_type": "stream",
     "text": [
      "Distribution: , distribution\n"
     ]
    },
    {
     "data": {
      "image/png": "[encoded data removed]",
      "text/plain": [
       "<Figure size 640x480 with 1 Axes>"
      ]
     },
     "metadata": {},
     "output_type": "display_data"
    }
   ],
   "source": [
    "import numpy as np\n",
    "import matplotlib.pyplot as plt\n",
    " \n",
    "distribution = np.linspace(0, np.minimum(rv.dist.b, 10))\n",
    "print(\"Distribution: , distribution\")\n",
    " \n",
    "plot = plt.plot(distribution, rv.pdf(distribution))"
   ]
  },
  {
   "cell_type": "markdown",
   "id": "e6aced67-1f73-43ee-9f51-99a561534d52",
   "metadata": {},
   "source": [
    "Q10. Write a Python program to calculate the two-sample t-test for independent samples, given two\n",
    "random samples of equal size and a null hypothesis that the population means are equal."
   ]
  },
  {
   "cell_type": "code",
   "execution_count": 11,
   "id": "7c625805-b2a0-44bb-91c1-7505c32c5464",
   "metadata": {},
   "outputs": [
    {
     "data": {
      "text/plain": [
       "Ttest_indResult(statistic=-0.6337397070250238, pvalue=0.5300471010405257)"
      ]
     },
     "execution_count": 11,
     "metadata": {},
     "output_type": "execute_result"
    }
   ],
   "source": [
    "# Python program to demonstrate how to\n",
    "# perform two sample T-test\n",
    " \n",
    "# Import the library\n",
    "import scipy.stats as stats\n",
    " \n",
    "# Creating data groups\n",
    "data_group1 = np.array([14, 15, 15, 16, 13, 8, 14,\n",
    "                        17, 16, 14, 19, 20, 21, 15,\n",
    "                        15, 16, 16, 13, 14, 12])\n",
    " \n",
    "data_group2 = np.array([15, 17, 14, 17, 14, 8, 12,\n",
    "                        19, 19, 14, 17, 22, 24, 16,\n",
    "                        13, 16, 13, 18, 15, 13])\n",
    " \n",
    "# Perform the two sample t-test with equal variances\n",
    "stats.ttest_ind(a=data_group1, b=data_group2, equal_var=True)\n"
   ]
  },
  {
   "cell_type": "markdown",
   "id": "e244ae07-a5b0-4e4c-b387-08a12633f46e",
   "metadata": {},
   "source": [
    "Analyzing the result:\n",
    "\n",
    "Two sample t-test has the following hypothesis:\n",
    "\n",
    "H0 => µ1 = µ2 (population mean of dataset1 is equal to dataset2)\n",
    "\n",
    "HA => µ1 ≠µ2 (population mean of dataset1 is different from dataset2)\n",
    "\n",
    "Here, since the p-value (0.53004) is greater than alpha = 0.05 so we cannot reject the null hypothesis of the test. We do not have sufficient evidence to say that the mean height of students between the two data groups is different."
   ]
  },
  {
   "cell_type": "markdown",
   "id": "d6a3e2f0-bf8a-4891-ba3a-db442a1a3e5e",
   "metadata": {
    "tags": []
   },
   "source": [
    "Q11: What is Student’s t distribution? When to use the t-Distribution.\n",
    "ANS -\n",
    "The t-distribution, also known as the Student's t-distribution, is a type of probability distribution that is similar to the normal distribution with its bell shape but has heavier tails. It is used for estimating population parameters for small sample sizes or unknown variances.\n"
   ]
  },
  {
   "cell_type": "markdown",
   "id": "5fcec2cc-427a-4d33-b58c-31bd4e89dfdb",
   "metadata": {},
   "source": [
    "Q12: What is t-statistic? State the formula for t-statistic.\n",
    "ANS -\n",
    "In statistics, the t-statistic is the ratio of the departure of the estimated value of a parameter from its hypothesized value to its standard error. It is used in hypothesis testing via Student's t-test. The t-statistic is used in a t-test to determine whether to support or reject the null hypothesis.\n",
    "We can calculate a t-value using a common t-test with the formula: t = (X‾ - μ0) / (s / √n), where X‾ is the sample mean, μ0 represents the population mean, s is the standard deviation of the sample and n stands for the size of the sample."
   ]
  },
  {
   "cell_type": "markdown",
   "id": "7a3f947e-7524-4aa3-9f8a-3f88db54bed5",
   "metadata": {},
   "source": [
    "Q13. A coffee shop owner wants to estimate the average daily revenue for their shop. They take a random\n",
    "sample of 50 days and find the sample mean revenue to be $500 with a standard deviation of $50.\n",
    "Estimate the population mean revenue with a 95% confidence interval.\n"
   ]
  },
  {
   "cell_type": "code",
   "execution_count": null,
   "id": "143e7492-b47c-4acb-9c5b-edbc2fcca01d",
   "metadata": {},
   "outputs": [],
   "source": [
    "sorry  cant get this part i am not able to solve word problems on this topic"
   ]
  },
  {
   "cell_type": "code",
   "execution_count": null,
   "id": "1e72ced7-a0eb-46db-9fc2-8900086f1540",
   "metadata": {},
   "outputs": [],
   "source": []
  }
 ],
 "metadata": {
  "kernelspec": {
   "display_name": "Python 3 (ipykernel)",
   "language": "python",
   "name": "python3"
  },
  "language_info": {
   "codemirror_mode": {
    "name": "ipython",
    "version": 3
   },
   "file_extension": ".py",
   "mimetype": "text/x-python",
   "name": "python",
   "nbconvert_exporter": "python",
   "pygments_lexer": "ipython3",
   "version": "3.10.8"
  }
 },
 "nbformat": 4,
 "nbformat_minor": 5
}
